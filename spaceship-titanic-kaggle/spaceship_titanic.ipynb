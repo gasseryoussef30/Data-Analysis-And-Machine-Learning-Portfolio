{
 "cells": [
  {
   "cell_type": "code",
   "execution_count": 1,
   "id": "7525a9ee-892f-447c-a5b3-26fa3c34f3a4",
   "metadata": {},
   "outputs": [],
   "source": [
    "import pandas as pd\n",
    "import numpy as np\n",
    "import matplotlib.pyplot as plt\n",
    "import seaborn as sns"
   ]
  },
  {
   "cell_type": "code",
   "execution_count": 2,
   "id": "e19baaa6-860a-4d38-9bf2-bdcbaeabd3b3",
   "metadata": {},
   "outputs": [
    {
     "data": {
      "text/html": [
       "<div>\n",
       "<style scoped>\n",
       "    .dataframe tbody tr th:only-of-type {\n",
       "        vertical-align: middle;\n",
       "    }\n",
       "\n",
       "    .dataframe tbody tr th {\n",
       "        vertical-align: top;\n",
       "    }\n",
       "\n",
       "    .dataframe thead th {\n",
       "        text-align: right;\n",
       "    }\n",
       "</style>\n",
       "<table border=\"1\" class=\"dataframe\">\n",
       "  <thead>\n",
       "    <tr style=\"text-align: right;\">\n",
       "      <th></th>\n",
       "      <th>PassengerId</th>\n",
       "      <th>HomePlanet</th>\n",
       "      <th>CryoSleep</th>\n",
       "      <th>Cabin</th>\n",
       "      <th>Destination</th>\n",
       "      <th>Age</th>\n",
       "      <th>VIP</th>\n",
       "      <th>RoomService</th>\n",
       "      <th>FoodCourt</th>\n",
       "      <th>ShoppingMall</th>\n",
       "      <th>Spa</th>\n",
       "      <th>VRDeck</th>\n",
       "      <th>Name</th>\n",
       "      <th>Transported</th>\n",
       "    </tr>\n",
       "  </thead>\n",
       "  <tbody>\n",
       "    <tr>\n",
       "      <th>0</th>\n",
       "      <td>0001_01</td>\n",
       "      <td>Europa</td>\n",
       "      <td>False</td>\n",
       "      <td>B/0/P</td>\n",
       "      <td>TRAPPIST-1e</td>\n",
       "      <td>39.0</td>\n",
       "      <td>False</td>\n",
       "      <td>0.0</td>\n",
       "      <td>0.0</td>\n",
       "      <td>0.0</td>\n",
       "      <td>0.0</td>\n",
       "      <td>0.0</td>\n",
       "      <td>Maham Ofracculy</td>\n",
       "      <td>False</td>\n",
       "    </tr>\n",
       "    <tr>\n",
       "      <th>1</th>\n",
       "      <td>0002_01</td>\n",
       "      <td>Earth</td>\n",
       "      <td>False</td>\n",
       "      <td>F/0/S</td>\n",
       "      <td>TRAPPIST-1e</td>\n",
       "      <td>24.0</td>\n",
       "      <td>False</td>\n",
       "      <td>109.0</td>\n",
       "      <td>9.0</td>\n",
       "      <td>25.0</td>\n",
       "      <td>549.0</td>\n",
       "      <td>44.0</td>\n",
       "      <td>Juanna Vines</td>\n",
       "      <td>True</td>\n",
       "    </tr>\n",
       "    <tr>\n",
       "      <th>2</th>\n",
       "      <td>0003_01</td>\n",
       "      <td>Europa</td>\n",
       "      <td>False</td>\n",
       "      <td>A/0/S</td>\n",
       "      <td>TRAPPIST-1e</td>\n",
       "      <td>58.0</td>\n",
       "      <td>True</td>\n",
       "      <td>43.0</td>\n",
       "      <td>3576.0</td>\n",
       "      <td>0.0</td>\n",
       "      <td>6715.0</td>\n",
       "      <td>49.0</td>\n",
       "      <td>Altark Susent</td>\n",
       "      <td>False</td>\n",
       "    </tr>\n",
       "    <tr>\n",
       "      <th>3</th>\n",
       "      <td>0003_02</td>\n",
       "      <td>Europa</td>\n",
       "      <td>False</td>\n",
       "      <td>A/0/S</td>\n",
       "      <td>TRAPPIST-1e</td>\n",
       "      <td>33.0</td>\n",
       "      <td>False</td>\n",
       "      <td>0.0</td>\n",
       "      <td>1283.0</td>\n",
       "      <td>371.0</td>\n",
       "      <td>3329.0</td>\n",
       "      <td>193.0</td>\n",
       "      <td>Solam Susent</td>\n",
       "      <td>False</td>\n",
       "    </tr>\n",
       "    <tr>\n",
       "      <th>4</th>\n",
       "      <td>0004_01</td>\n",
       "      <td>Earth</td>\n",
       "      <td>False</td>\n",
       "      <td>F/1/S</td>\n",
       "      <td>TRAPPIST-1e</td>\n",
       "      <td>16.0</td>\n",
       "      <td>False</td>\n",
       "      <td>303.0</td>\n",
       "      <td>70.0</td>\n",
       "      <td>151.0</td>\n",
       "      <td>565.0</td>\n",
       "      <td>2.0</td>\n",
       "      <td>Willy Santantines</td>\n",
       "      <td>True</td>\n",
       "    </tr>\n",
       "  </tbody>\n",
       "</table>\n",
       "</div>"
      ],
      "text/plain": [
       "  PassengerId HomePlanet CryoSleep  Cabin  Destination   Age    VIP  \\\n",
       "0     0001_01     Europa     False  B/0/P  TRAPPIST-1e  39.0  False   \n",
       "1     0002_01      Earth     False  F/0/S  TRAPPIST-1e  24.0  False   \n",
       "2     0003_01     Europa     False  A/0/S  TRAPPIST-1e  58.0   True   \n",
       "3     0003_02     Europa     False  A/0/S  TRAPPIST-1e  33.0  False   \n",
       "4     0004_01      Earth     False  F/1/S  TRAPPIST-1e  16.0  False   \n",
       "\n",
       "   RoomService  FoodCourt  ShoppingMall     Spa  VRDeck               Name  \\\n",
       "0          0.0        0.0           0.0     0.0     0.0    Maham Ofracculy   \n",
       "1        109.0        9.0          25.0   549.0    44.0       Juanna Vines   \n",
       "2         43.0     3576.0           0.0  6715.0    49.0      Altark Susent   \n",
       "3          0.0     1283.0         371.0  3329.0   193.0       Solam Susent   \n",
       "4        303.0       70.0         151.0   565.0     2.0  Willy Santantines   \n",
       "\n",
       "   Transported  \n",
       "0        False  \n",
       "1         True  \n",
       "2        False  \n",
       "3        False  \n",
       "4         True  "
      ]
     },
     "execution_count": 2,
     "metadata": {},
     "output_type": "execute_result"
    }
   ],
   "source": [
    "train = pd.read_csv('train.csv')\n",
    "test = pd.read_csv('test.csv')\n",
    "train.head()"
   ]
  },
  {
   "cell_type": "code",
   "execution_count": 3,
   "id": "95ad825f-8aef-49c0-b234-e5a56c63c96c",
   "metadata": {},
   "outputs": [
    {
     "name": "stdout",
     "output_type": "stream",
     "text": [
      "<class 'pandas.core.frame.DataFrame'>\n",
      "RangeIndex: 8693 entries, 0 to 8692\n",
      "Data columns (total 14 columns):\n",
      " #   Column        Non-Null Count  Dtype  \n",
      "---  ------        --------------  -----  \n",
      " 0   PassengerId   8693 non-null   object \n",
      " 1   HomePlanet    8492 non-null   object \n",
      " 2   CryoSleep     8476 non-null   object \n",
      " 3   Cabin         8494 non-null   object \n",
      " 4   Destination   8511 non-null   object \n",
      " 5   Age           8514 non-null   float64\n",
      " 6   VIP           8490 non-null   object \n",
      " 7   RoomService   8512 non-null   float64\n",
      " 8   FoodCourt     8510 non-null   float64\n",
      " 9   ShoppingMall  8485 non-null   float64\n",
      " 10  Spa           8510 non-null   float64\n",
      " 11  VRDeck        8505 non-null   float64\n",
      " 12  Name          8493 non-null   object \n",
      " 13  Transported   8693 non-null   bool   \n",
      "dtypes: bool(1), float64(6), object(7)\n",
      "memory usage: 891.5+ KB\n"
     ]
    }
   ],
   "source": [
    "train.info()"
   ]
  },
  {
   "cell_type": "markdown",
   "id": "b6915bcf-221c-444e-b7ef-6e8b84113749",
   "metadata": {},
   "source": [
    "# Data Cleansing"
   ]
  },
  {
   "cell_type": "code",
   "execution_count": 4,
   "id": "36c4dc25-6e4e-474b-998e-e53b74b38ad1",
   "metadata": {},
   "outputs": [],
   "source": [
    "# handling null values through imputing by the median for the numerical columns (train data)\n",
    "from sklearn.impute import SimpleImputer\n",
    "imputer = SimpleImputer(strategy='median')\n",
    "train['Age']= imputer.fit_transform(train[['Age']])\n",
    "train['RoomService']= imputer.fit_transform(train[['RoomService']])\n",
    "train['FoodCourt']= imputer.fit_transform(train[['FoodCourt']])\n",
    "train['ShoppingMall']= imputer.fit_transform(train[['ShoppingMall']])\n",
    "train['Spa']= imputer.fit_transform(train[['Spa']])\n",
    "train['VRDeck']= imputer.fit_transform(train[['VRDeck']])"
   ]
  },
  {
   "cell_type": "code",
   "execution_count": 5,
   "id": "2dc7693f-21fb-458c-a850-f914253c669e",
   "metadata": {
    "scrolled": true
   },
   "outputs": [
    {
     "name": "stdout",
     "output_type": "stream",
     "text": [
      "<class 'pandas.core.frame.DataFrame'>\n",
      "RangeIndex: 4277 entries, 0 to 4276\n",
      "Data columns (total 13 columns):\n",
      " #   Column        Non-Null Count  Dtype  \n",
      "---  ------        --------------  -----  \n",
      " 0   PassengerId   4277 non-null   object \n",
      " 1   HomePlanet    4190 non-null   object \n",
      " 2   CryoSleep     4184 non-null   object \n",
      " 3   Cabin         4177 non-null   object \n",
      " 4   Destination   4185 non-null   object \n",
      " 5   Age           4186 non-null   float64\n",
      " 6   VIP           4184 non-null   object \n",
      " 7   RoomService   4195 non-null   float64\n",
      " 8   FoodCourt     4171 non-null   float64\n",
      " 9   ShoppingMall  4179 non-null   float64\n",
      " 10  Spa           4176 non-null   float64\n",
      " 11  VRDeck        4197 non-null   float64\n",
      " 12  Name          4183 non-null   object \n",
      "dtypes: float64(6), object(7)\n",
      "memory usage: 434.5+ KB\n"
     ]
    }
   ],
   "source": [
    "test.info()"
   ]
  },
  {
   "cell_type": "code",
   "execution_count": 6,
   "id": "127b1e4c-29bc-4d12-a5bd-b6f83951851c",
   "metadata": {},
   "outputs": [],
   "source": [
    "# imputing numerical columns (test data)\n",
    "test['Age']= imputer.fit_transform(test[['Age']])\n",
    "test['RoomService']= imputer.fit_transform(test[['RoomService']])\n",
    "test['FoodCourt']= imputer.fit_transform(test[['FoodCourt']])\n",
    "test['ShoppingMall']= imputer.fit_transform(test[['ShoppingMall']])\n",
    "test['Spa']= imputer.fit_transform(test[['Spa']])\n",
    "test['VRDeck']= imputer.fit_transform(test[['VRDeck']])"
   ]
  },
  {
   "cell_type": "code",
   "execution_count": 7,
   "id": "6cf8628d-8f20-4284-a71b-c90f5ee48c30",
   "metadata": {},
   "outputs": [],
   "source": [
    "# filling null values for categorical columns with the most occurred values (train set)\n",
    "train['HomePlanet'].fillna(train['HomePlanet'].mode()[0], inplace=True)\n",
    "train['CryoSleep'].fillna(train['CryoSleep'].mode()[0], inplace=True)\n",
    "train['Cabin'].fillna(train['Cabin'].mode()[0], inplace=True)\n",
    "train['Destination'].fillna(train['Destination'].mode()[0], inplace=True)\n",
    "train['VIP'].fillna(train['VIP'].mode()[0], inplace=True)"
   ]
  },
  {
   "cell_type": "code",
   "execution_count": 8,
   "id": "d6e9e8e7-fc9e-41b9-9137-f971b63d42ec",
   "metadata": {
    "scrolled": true
   },
   "outputs": [
    {
     "name": "stdout",
     "output_type": "stream",
     "text": [
      "<class 'pandas.core.frame.DataFrame'>\n",
      "RangeIndex: 4277 entries, 0 to 4276\n",
      "Data columns (total 13 columns):\n",
      " #   Column        Non-Null Count  Dtype  \n",
      "---  ------        --------------  -----  \n",
      " 0   PassengerId   4277 non-null   object \n",
      " 1   HomePlanet    4190 non-null   object \n",
      " 2   CryoSleep     4184 non-null   object \n",
      " 3   Cabin         4177 non-null   object \n",
      " 4   Destination   4185 non-null   object \n",
      " 5   Age           4277 non-null   float64\n",
      " 6   VIP           4184 non-null   object \n",
      " 7   RoomService   4277 non-null   float64\n",
      " 8   FoodCourt     4277 non-null   float64\n",
      " 9   ShoppingMall  4277 non-null   float64\n",
      " 10  Spa           4277 non-null   float64\n",
      " 11  VRDeck        4277 non-null   float64\n",
      " 12  Name          4183 non-null   object \n",
      "dtypes: float64(6), object(7)\n",
      "memory usage: 434.5+ KB\n"
     ]
    }
   ],
   "source": [
    "test.info()"
   ]
  },
  {
   "cell_type": "code",
   "execution_count": 9,
   "id": "5d94deea-47d6-4bed-840b-48a834edf897",
   "metadata": {},
   "outputs": [],
   "source": [
    "# filling null categorical columns (test set)\n",
    "test['HomePlanet'].fillna(test['HomePlanet'].mode()[0], inplace=True)\n",
    "test['CryoSleep'].fillna(test['CryoSleep'].mode()[0], inplace=True)\n",
    "test['Cabin'].fillna(test['Cabin'].mode()[0], inplace=True)\n",
    "test['Destination'].fillna(test['Destination'].mode()[0], inplace=True)\n",
    "test['VIP'].fillna(test['VIP'].mode()[0], inplace=True)"
   ]
  },
  {
   "cell_type": "code",
   "execution_count": 10,
   "id": "6f1151d2-d62e-4e30-b9db-e898d026d369",
   "metadata": {},
   "outputs": [
    {
     "data": {
      "text/html": [
       "<div>\n",
       "<style scoped>\n",
       "    .dataframe tbody tr th:only-of-type {\n",
       "        vertical-align: middle;\n",
       "    }\n",
       "\n",
       "    .dataframe tbody tr th {\n",
       "        vertical-align: top;\n",
       "    }\n",
       "\n",
       "    .dataframe thead th {\n",
       "        text-align: right;\n",
       "    }\n",
       "</style>\n",
       "<table border=\"1\" class=\"dataframe\">\n",
       "  <thead>\n",
       "    <tr style=\"text-align: right;\">\n",
       "      <th></th>\n",
       "      <th>PassengerId</th>\n",
       "      <th>HomePlanet</th>\n",
       "      <th>CryoSleep</th>\n",
       "      <th>Cabin</th>\n",
       "      <th>Destination</th>\n",
       "      <th>Age</th>\n",
       "      <th>VIP</th>\n",
       "      <th>RoomService</th>\n",
       "      <th>FoodCourt</th>\n",
       "      <th>ShoppingMall</th>\n",
       "      <th>Spa</th>\n",
       "      <th>VRDeck</th>\n",
       "      <th>Name</th>\n",
       "      <th>Transported</th>\n",
       "    </tr>\n",
       "  </thead>\n",
       "  <tbody>\n",
       "    <tr>\n",
       "      <th>0</th>\n",
       "      <td>0001_01</td>\n",
       "      <td>Europa</td>\n",
       "      <td>False</td>\n",
       "      <td>B/0/P</td>\n",
       "      <td>TRAPPIST-1e</td>\n",
       "      <td>39.0</td>\n",
       "      <td>False</td>\n",
       "      <td>0.0</td>\n",
       "      <td>0.0</td>\n",
       "      <td>0.0</td>\n",
       "      <td>0.0</td>\n",
       "      <td>0.0</td>\n",
       "      <td>Maham Ofracculy</td>\n",
       "      <td>False</td>\n",
       "    </tr>\n",
       "    <tr>\n",
       "      <th>1</th>\n",
       "      <td>0002_01</td>\n",
       "      <td>Earth</td>\n",
       "      <td>False</td>\n",
       "      <td>F/0/S</td>\n",
       "      <td>TRAPPIST-1e</td>\n",
       "      <td>24.0</td>\n",
       "      <td>False</td>\n",
       "      <td>109.0</td>\n",
       "      <td>9.0</td>\n",
       "      <td>25.0</td>\n",
       "      <td>549.0</td>\n",
       "      <td>44.0</td>\n",
       "      <td>Juanna Vines</td>\n",
       "      <td>True</td>\n",
       "    </tr>\n",
       "    <tr>\n",
       "      <th>2</th>\n",
       "      <td>0003_01</td>\n",
       "      <td>Europa</td>\n",
       "      <td>False</td>\n",
       "      <td>A/0/S</td>\n",
       "      <td>TRAPPIST-1e</td>\n",
       "      <td>58.0</td>\n",
       "      <td>True</td>\n",
       "      <td>43.0</td>\n",
       "      <td>3576.0</td>\n",
       "      <td>0.0</td>\n",
       "      <td>6715.0</td>\n",
       "      <td>49.0</td>\n",
       "      <td>Altark Susent</td>\n",
       "      <td>False</td>\n",
       "    </tr>\n",
       "    <tr>\n",
       "      <th>3</th>\n",
       "      <td>0003_02</td>\n",
       "      <td>Europa</td>\n",
       "      <td>False</td>\n",
       "      <td>A/0/S</td>\n",
       "      <td>TRAPPIST-1e</td>\n",
       "      <td>33.0</td>\n",
       "      <td>False</td>\n",
       "      <td>0.0</td>\n",
       "      <td>1283.0</td>\n",
       "      <td>371.0</td>\n",
       "      <td>3329.0</td>\n",
       "      <td>193.0</td>\n",
       "      <td>Solam Susent</td>\n",
       "      <td>False</td>\n",
       "    </tr>\n",
       "    <tr>\n",
       "      <th>4</th>\n",
       "      <td>0004_01</td>\n",
       "      <td>Earth</td>\n",
       "      <td>False</td>\n",
       "      <td>F/1/S</td>\n",
       "      <td>TRAPPIST-1e</td>\n",
       "      <td>16.0</td>\n",
       "      <td>False</td>\n",
       "      <td>303.0</td>\n",
       "      <td>70.0</td>\n",
       "      <td>151.0</td>\n",
       "      <td>565.0</td>\n",
       "      <td>2.0</td>\n",
       "      <td>Willy Santantines</td>\n",
       "      <td>True</td>\n",
       "    </tr>\n",
       "  </tbody>\n",
       "</table>\n",
       "</div>"
      ],
      "text/plain": [
       "  PassengerId HomePlanet  CryoSleep  Cabin  Destination   Age    VIP  \\\n",
       "0     0001_01     Europa      False  B/0/P  TRAPPIST-1e  39.0  False   \n",
       "1     0002_01      Earth      False  F/0/S  TRAPPIST-1e  24.0  False   \n",
       "2     0003_01     Europa      False  A/0/S  TRAPPIST-1e  58.0   True   \n",
       "3     0003_02     Europa      False  A/0/S  TRAPPIST-1e  33.0  False   \n",
       "4     0004_01      Earth      False  F/1/S  TRAPPIST-1e  16.0  False   \n",
       "\n",
       "   RoomService  FoodCourt  ShoppingMall     Spa  VRDeck               Name  \\\n",
       "0          0.0        0.0           0.0     0.0     0.0    Maham Ofracculy   \n",
       "1        109.0        9.0          25.0   549.0    44.0       Juanna Vines   \n",
       "2         43.0     3576.0           0.0  6715.0    49.0      Altark Susent   \n",
       "3          0.0     1283.0         371.0  3329.0   193.0       Solam Susent   \n",
       "4        303.0       70.0         151.0   565.0     2.0  Willy Santantines   \n",
       "\n",
       "   Transported  \n",
       "0        False  \n",
       "1         True  \n",
       "2        False  \n",
       "3        False  \n",
       "4         True  "
      ]
     },
     "execution_count": 10,
     "metadata": {},
     "output_type": "execute_result"
    }
   ],
   "source": [
    "train.head()"
   ]
  },
  {
   "cell_type": "code",
   "execution_count": 11,
   "id": "bf1ae6c6-e32e-4590-9540-58869137ce1d",
   "metadata": {},
   "outputs": [],
   "source": [
    "# deleting name column from both sets\n",
    "del train['Name']\n",
    "del test['Name']"
   ]
  },
  {
   "cell_type": "code",
   "execution_count": 12,
   "id": "530cd54f-751e-4e31-beec-9a9598e01006",
   "metadata": {},
   "outputs": [
    {
     "data": {
      "text/plain": [
       "array([False,  True])"
      ]
     },
     "execution_count": 12,
     "metadata": {},
     "output_type": "execute_result"
    }
   ],
   "source": [
    "train['CryoSleep'].unique()"
   ]
  },
  {
   "cell_type": "code",
   "execution_count": 13,
   "id": "0d75b377-ce5f-42e0-b437-50a91fe44b67",
   "metadata": {},
   "outputs": [],
   "source": [
    "# replacing True and False with binary values\n",
    "train['CryoSleep'] = train['CryoSleep'].replace({\n",
    "    True : 1,\n",
    "    False : 0\n",
    "})\n",
    "\n",
    "train['VIP'] = train['VIP'].replace({\n",
    "    True : 1,\n",
    "    False : 0\n",
    "})"
   ]
  },
  {
   "cell_type": "code",
   "execution_count": 14,
   "id": "4db54473-13c7-471b-a1cb-5825c4dff97b",
   "metadata": {},
   "outputs": [],
   "source": [
    "# same step for the test set\n",
    "test['CryoSleep'] = test['CryoSleep'].replace({\n",
    "    True : 1,\n",
    "    False : 0\n",
    "})\n",
    "\n",
    "test['VIP'] = test['VIP'].replace({\n",
    "    True : 1,\n",
    "    False : 0\n",
    "})"
   ]
  },
  {
   "cell_type": "code",
   "execution_count": 15,
   "id": "d4ba7357-3307-447e-855b-9ef6fb22c325",
   "metadata": {},
   "outputs": [],
   "source": [
    "# high cardinality column cabin can be removed from both sets\n",
    "del train['Cabin']\n",
    "del test['Cabin']"
   ]
  },
  {
   "cell_type": "code",
   "execution_count": 16,
   "id": "961ec2d2-6145-46f7-8f18-39a596836f83",
   "metadata": {},
   "outputs": [
    {
     "data": {
      "text/html": [
       "<div>\n",
       "<style scoped>\n",
       "    .dataframe tbody tr th:only-of-type {\n",
       "        vertical-align: middle;\n",
       "    }\n",
       "\n",
       "    .dataframe tbody tr th {\n",
       "        vertical-align: top;\n",
       "    }\n",
       "\n",
       "    .dataframe thead th {\n",
       "        text-align: right;\n",
       "    }\n",
       "</style>\n",
       "<table border=\"1\" class=\"dataframe\">\n",
       "  <thead>\n",
       "    <tr style=\"text-align: right;\">\n",
       "      <th></th>\n",
       "      <th>PassengerId</th>\n",
       "      <th>HomePlanet</th>\n",
       "      <th>CryoSleep</th>\n",
       "      <th>Destination</th>\n",
       "      <th>Age</th>\n",
       "      <th>VIP</th>\n",
       "      <th>RoomService</th>\n",
       "      <th>FoodCourt</th>\n",
       "      <th>ShoppingMall</th>\n",
       "      <th>Spa</th>\n",
       "      <th>VRDeck</th>\n",
       "      <th>Transported</th>\n",
       "    </tr>\n",
       "  </thead>\n",
       "  <tbody>\n",
       "    <tr>\n",
       "      <th>0</th>\n",
       "      <td>0001_01</td>\n",
       "      <td>Europa</td>\n",
       "      <td>0</td>\n",
       "      <td>TRAPPIST-1e</td>\n",
       "      <td>39.0</td>\n",
       "      <td>0</td>\n",
       "      <td>0.0</td>\n",
       "      <td>0.0</td>\n",
       "      <td>0.0</td>\n",
       "      <td>0.0</td>\n",
       "      <td>0.0</td>\n",
       "      <td>False</td>\n",
       "    </tr>\n",
       "    <tr>\n",
       "      <th>1</th>\n",
       "      <td>0002_01</td>\n",
       "      <td>Earth</td>\n",
       "      <td>0</td>\n",
       "      <td>TRAPPIST-1e</td>\n",
       "      <td>24.0</td>\n",
       "      <td>0</td>\n",
       "      <td>109.0</td>\n",
       "      <td>9.0</td>\n",
       "      <td>25.0</td>\n",
       "      <td>549.0</td>\n",
       "      <td>44.0</td>\n",
       "      <td>True</td>\n",
       "    </tr>\n",
       "    <tr>\n",
       "      <th>2</th>\n",
       "      <td>0003_01</td>\n",
       "      <td>Europa</td>\n",
       "      <td>0</td>\n",
       "      <td>TRAPPIST-1e</td>\n",
       "      <td>58.0</td>\n",
       "      <td>1</td>\n",
       "      <td>43.0</td>\n",
       "      <td>3576.0</td>\n",
       "      <td>0.0</td>\n",
       "      <td>6715.0</td>\n",
       "      <td>49.0</td>\n",
       "      <td>False</td>\n",
       "    </tr>\n",
       "    <tr>\n",
       "      <th>3</th>\n",
       "      <td>0003_02</td>\n",
       "      <td>Europa</td>\n",
       "      <td>0</td>\n",
       "      <td>TRAPPIST-1e</td>\n",
       "      <td>33.0</td>\n",
       "      <td>0</td>\n",
       "      <td>0.0</td>\n",
       "      <td>1283.0</td>\n",
       "      <td>371.0</td>\n",
       "      <td>3329.0</td>\n",
       "      <td>193.0</td>\n",
       "      <td>False</td>\n",
       "    </tr>\n",
       "    <tr>\n",
       "      <th>4</th>\n",
       "      <td>0004_01</td>\n",
       "      <td>Earth</td>\n",
       "      <td>0</td>\n",
       "      <td>TRAPPIST-1e</td>\n",
       "      <td>16.0</td>\n",
       "      <td>0</td>\n",
       "      <td>303.0</td>\n",
       "      <td>70.0</td>\n",
       "      <td>151.0</td>\n",
       "      <td>565.0</td>\n",
       "      <td>2.0</td>\n",
       "      <td>True</td>\n",
       "    </tr>\n",
       "  </tbody>\n",
       "</table>\n",
       "</div>"
      ],
      "text/plain": [
       "  PassengerId HomePlanet  CryoSleep  Destination   Age  VIP  RoomService  \\\n",
       "0     0001_01     Europa          0  TRAPPIST-1e  39.0    0          0.0   \n",
       "1     0002_01      Earth          0  TRAPPIST-1e  24.0    0        109.0   \n",
       "2     0003_01     Europa          0  TRAPPIST-1e  58.0    1         43.0   \n",
       "3     0003_02     Europa          0  TRAPPIST-1e  33.0    0          0.0   \n",
       "4     0004_01      Earth          0  TRAPPIST-1e  16.0    0        303.0   \n",
       "\n",
       "   FoodCourt  ShoppingMall     Spa  VRDeck  Transported  \n",
       "0        0.0           0.0     0.0     0.0        False  \n",
       "1        9.0          25.0   549.0    44.0         True  \n",
       "2     3576.0           0.0  6715.0    49.0        False  \n",
       "3     1283.0         371.0  3329.0   193.0        False  \n",
       "4       70.0         151.0   565.0     2.0         True  "
      ]
     },
     "execution_count": 16,
     "metadata": {},
     "output_type": "execute_result"
    }
   ],
   "source": [
    "train.head()"
   ]
  },
  {
   "cell_type": "code",
   "execution_count": 21,
   "id": "1fad152c-c542-44be-904b-0660e4ba7a68",
   "metadata": {},
   "outputs": [],
   "source": [
    "# converting float datatypes to int for better visibility\n",
    "train['Age'] = train['Age'].astype('int')\n",
    "test['Age'] = test['Age'].astype('int')\n",
    "train['RoomService'] = train['RoomService'].astype('int')\n",
    "test['RoomService'] = test['RoomService'].astype('int')\n",
    "train['FoodCourt'] = train['FoodCourt'].astype('int')\n",
    "test['FoodCourt'] = test['FoodCourt'].astype('int')\n",
    "train['ShoppingMall'] = train['ShoppingMall'].astype('int')\n",
    "test['ShoppingMall'] = test['ShoppingMall'].astype('int')\n",
    "train['Spa'] = train['Spa'].astype('int')\n",
    "test['Spa'] = test['Spa'].astype('int')\n",
    "train['VRDeck'] = train['VRDeck'].astype('int')\n",
    "test['VRDeck'] = test['VRDeck'].astype('int')"
   ]
  },
  {
   "cell_type": "code",
   "execution_count": 22,
   "id": "088e3344-5e09-4fa4-b96e-d87ec1a8d760",
   "metadata": {},
   "outputs": [
    {
     "name": "stdout",
     "output_type": "stream",
     "text": [
      "<class 'pandas.core.frame.DataFrame'>\n",
      "RangeIndex: 4277 entries, 0 to 4276\n",
      "Data columns (total 11 columns):\n",
      " #   Column        Non-Null Count  Dtype \n",
      "---  ------        --------------  ----- \n",
      " 0   PassengerId   4277 non-null   object\n",
      " 1   HomePlanet    4277 non-null   object\n",
      " 2   CryoSleep     4277 non-null   int64 \n",
      " 3   Destination   4277 non-null   object\n",
      " 4   Age           4277 non-null   int32 \n",
      " 5   VIP           4277 non-null   int64 \n",
      " 6   RoomService   4277 non-null   int32 \n",
      " 7   FoodCourt     4277 non-null   int32 \n",
      " 8   ShoppingMall  4277 non-null   int32 \n",
      " 9   Spa           4277 non-null   int32 \n",
      " 10  VRDeck        4277 non-null   int32 \n",
      "dtypes: int32(6), int64(2), object(3)\n",
      "memory usage: 267.4+ KB\n"
     ]
    }
   ],
   "source": [
    "test.info()"
   ]
  },
  {
   "cell_type": "code",
   "execution_count": 23,
   "id": "d891280d-dd67-4273-8cc4-400eca180c87",
   "metadata": {},
   "outputs": [
    {
     "data": {
      "text/html": [
       "<div>\n",
       "<style scoped>\n",
       "    .dataframe tbody tr th:only-of-type {\n",
       "        vertical-align: middle;\n",
       "    }\n",
       "\n",
       "    .dataframe tbody tr th {\n",
       "        vertical-align: top;\n",
       "    }\n",
       "\n",
       "    .dataframe thead th {\n",
       "        text-align: right;\n",
       "    }\n",
       "</style>\n",
       "<table border=\"1\" class=\"dataframe\">\n",
       "  <thead>\n",
       "    <tr style=\"text-align: right;\">\n",
       "      <th></th>\n",
       "      <th>PassengerId</th>\n",
       "      <th>HomePlanet</th>\n",
       "      <th>CryoSleep</th>\n",
       "      <th>Destination</th>\n",
       "      <th>Age</th>\n",
       "      <th>VIP</th>\n",
       "      <th>RoomService</th>\n",
       "      <th>FoodCourt</th>\n",
       "      <th>ShoppingMall</th>\n",
       "      <th>Spa</th>\n",
       "      <th>VRDeck</th>\n",
       "      <th>Transported</th>\n",
       "    </tr>\n",
       "  </thead>\n",
       "  <tbody>\n",
       "    <tr>\n",
       "      <th>0</th>\n",
       "      <td>0001_01</td>\n",
       "      <td>Europa</td>\n",
       "      <td>0</td>\n",
       "      <td>TRAPPIST-1e</td>\n",
       "      <td>39</td>\n",
       "      <td>0</td>\n",
       "      <td>0</td>\n",
       "      <td>0</td>\n",
       "      <td>0</td>\n",
       "      <td>0</td>\n",
       "      <td>0</td>\n",
       "      <td>False</td>\n",
       "    </tr>\n",
       "    <tr>\n",
       "      <th>1</th>\n",
       "      <td>0002_01</td>\n",
       "      <td>Earth</td>\n",
       "      <td>0</td>\n",
       "      <td>TRAPPIST-1e</td>\n",
       "      <td>24</td>\n",
       "      <td>0</td>\n",
       "      <td>109</td>\n",
       "      <td>9</td>\n",
       "      <td>25</td>\n",
       "      <td>549</td>\n",
       "      <td>44</td>\n",
       "      <td>True</td>\n",
       "    </tr>\n",
       "    <tr>\n",
       "      <th>2</th>\n",
       "      <td>0003_01</td>\n",
       "      <td>Europa</td>\n",
       "      <td>0</td>\n",
       "      <td>TRAPPIST-1e</td>\n",
       "      <td>58</td>\n",
       "      <td>1</td>\n",
       "      <td>43</td>\n",
       "      <td>3576</td>\n",
       "      <td>0</td>\n",
       "      <td>6715</td>\n",
       "      <td>49</td>\n",
       "      <td>False</td>\n",
       "    </tr>\n",
       "    <tr>\n",
       "      <th>3</th>\n",
       "      <td>0003_02</td>\n",
       "      <td>Europa</td>\n",
       "      <td>0</td>\n",
       "      <td>TRAPPIST-1e</td>\n",
       "      <td>33</td>\n",
       "      <td>0</td>\n",
       "      <td>0</td>\n",
       "      <td>1283</td>\n",
       "      <td>371</td>\n",
       "      <td>3329</td>\n",
       "      <td>193</td>\n",
       "      <td>False</td>\n",
       "    </tr>\n",
       "    <tr>\n",
       "      <th>4</th>\n",
       "      <td>0004_01</td>\n",
       "      <td>Earth</td>\n",
       "      <td>0</td>\n",
       "      <td>TRAPPIST-1e</td>\n",
       "      <td>16</td>\n",
       "      <td>0</td>\n",
       "      <td>303</td>\n",
       "      <td>70</td>\n",
       "      <td>151</td>\n",
       "      <td>565</td>\n",
       "      <td>2</td>\n",
       "      <td>True</td>\n",
       "    </tr>\n",
       "  </tbody>\n",
       "</table>\n",
       "</div>"
      ],
      "text/plain": [
       "  PassengerId HomePlanet  CryoSleep  Destination  Age  VIP  RoomService  \\\n",
       "0     0001_01     Europa          0  TRAPPIST-1e   39    0            0   \n",
       "1     0002_01      Earth          0  TRAPPIST-1e   24    0          109   \n",
       "2     0003_01     Europa          0  TRAPPIST-1e   58    1           43   \n",
       "3     0003_02     Europa          0  TRAPPIST-1e   33    0            0   \n",
       "4     0004_01      Earth          0  TRAPPIST-1e   16    0          303   \n",
       "\n",
       "   FoodCourt  ShoppingMall   Spa  VRDeck  Transported  \n",
       "0          0             0     0       0        False  \n",
       "1          9            25   549      44         True  \n",
       "2       3576             0  6715      49        False  \n",
       "3       1283           371  3329     193        False  \n",
       "4         70           151   565       2         True  "
      ]
     },
     "execution_count": 23,
     "metadata": {},
     "output_type": "execute_result"
    }
   ],
   "source": [
    "train.head()"
   ]
  },
  {
   "cell_type": "markdown",
   "id": "a7eb018f-499a-4a78-950f-1e98916533a5",
   "metadata": {},
   "source": [
    "# EDA"
   ]
  },
  {
   "cell_type": "code",
   "execution_count": 33,
   "id": "3f8cb924-4fad-4046-a4d9-3374d3834e83",
   "metadata": {},
   "outputs": [
    {
     "data": {
      "image/png": "[encoded data removed]",
      "text/plain": [
       "<Figure size 640x480 with 1 Axes>"
      ]
     },
     "metadata": {},
     "output_type": "display_data"
    }
   ],
   "source": [
    "colors = ['#090364','#0888b7']\n",
    "palette = sns.color_palette(colors)\n",
    "sns.barplot(x=train['Transported'].value_counts().index, y=train['Transported'].value_counts().values,\n",
    "           palette = palette)\n",
    "plt.title('Transported or Not Distrubtion Across the train data')\n",
    "plt.show()\n",
    "# label is almost evenly distrubted across the data "
   ]
  },
  {
   "cell_type": "code",
   "execution_count": 34,
   "id": "02665fc3-d78b-477e-b679-7a61066df1a7",
   "metadata": {},
   "outputs": [],
   "source": [
    "list(set(train.dtypes.tolist()))\n",
    "train_numerical = train.select_dtypes(['int'])"
   ]
  },
  {
   "cell_type": "code",
   "execution_count": 37,
   "id": "b4de4c51-167d-4338-ae7d-b615a47804e2",
   "metadata": {},
   "outputs": [
    {
     "data": {
      "image/png": "[encoded data removed]",
      "text/plain": [
       "<Figure size 1600x1000 with 9 Axes>"
      ]
     },
     "metadata": {},
     "output_type": "display_data"
    }
   ],
   "source": [
    "train_numerical.hist(figsize=(16, 10), bins=20, xlabelsize=8, ylabelsize=8)\n",
    "plt.title('Numerical Columns Distribution');"
   ]
  },
  {
   "cell_type": "code",
   "execution_count": 38,
   "id": "af1329d6-5319-4b4f-b62b-ac6c7d7fe4f4",
   "metadata": {},
   "outputs": [
    {
     "data": {
      "text/plain": [
       "VIP\n",
       "0    8494\n",
       "1     199\n",
       "Name: count, dtype: int64"
      ]
     },
     "execution_count": 38,
     "metadata": {},
     "output_type": "execute_result"
    }
   ],
   "source": [
    "train['VIP'].value_counts()"
   ]
  },
  {
   "cell_type": "code",
   "execution_count": 39,
   "id": "3279521b-8406-4263-9cb6-d3071eda0d8b",
   "metadata": {},
   "outputs": [
    {
     "data": {
      "text/plain": [
       "VIP\n",
       "0    4203\n",
       "1      74\n",
       "Name: count, dtype: int64"
      ]
     },
     "execution_count": 39,
     "metadata": {},
     "output_type": "execute_result"
    }
   ],
   "source": [
    "test['VIP'].value_counts()"
   ]
  },
  {
   "cell_type": "code",
   "execution_count": 40,
   "id": "60a87d89-8e27-4e03-a4f2-27bb8488ad45",
   "metadata": {},
   "outputs": [],
   "source": [
    "# since majority of VIP values are considered to be zeros, it will be removed from both sets\n",
    "del train['VIP']\n",
    "del test['VIP']"
   ]
  },
  {
   "cell_type": "code",
   "execution_count": 41,
   "id": "665de017-1099-4541-96cd-c5d3c04d5f31",
   "metadata": {},
   "outputs": [
    {
     "data": {
      "image/png": "[encoded data removed]",
      "text/plain": [
       "<Figure size 640x480 with 1 Axes>"
      ]
     },
     "metadata": {},
     "output_type": "display_data"
    }
   ],
   "source": [
    "colors = ['#090364','#0888b7', '#f9ac07']\n",
    "palette = sns.color_palette(colors)\n",
    "sns.barplot(x=train['HomePlanet'].value_counts().index, y=train['HomePlanet'].value_counts().values,\n",
    "           palette = palette)\n",
    "plt.title('HomePlanet Count')\n",
    "plt.show()"
   ]
  },
  {
   "cell_type": "code",
   "execution_count": 43,
   "id": "152f5426-41d4-41ad-8fc6-23cc4a1c4890",
   "metadata": {},
   "outputs": [
    {
     "data": {
      "image/png": "[encoded data removed]",
      "text/plain": [
       "<Figure size 640x480 with 1 Axes>"
      ]
     },
     "metadata": {},
     "output_type": "display_data"
    }
   ],
   "source": [
    "colors = ['#090364','#0888b7', '#f9ac07']\n",
    "palette = sns.color_palette(colors)\n",
    "sns.barplot(x=train['Destination'].value_counts().index, y=train['Destination'].value_counts().values,\n",
    "           palette = palette)\n",
    "plt.title('Destination of Passengers Count')\n",
    "plt.show()"
   ]
  },
  {
   "cell_type": "code",
   "execution_count": 48,
   "id": "b1027b70-8261-4d6f-8eaa-05343c32c6ee",
   "metadata": {},
   "outputs": [
    {
     "name": "stdout",
     "output_type": "stream",
     "text": [
      "\n",
      "Average Age of Passengers From each Planet they were living in\n"
     ]
    },
    {
     "data": {
      "text/plain": [
       "HomePlanet\n",
       "Earth     26.20\n",
       "Europa    34.26\n",
       "Mars      29.24\n",
       "Name: Age, dtype: float64"
      ]
     },
     "execution_count": 48,
     "metadata": {},
     "output_type": "execute_result"
    }
   ],
   "source": [
    "print(\"\"\"\n",
    "Average Age of Passengers From each Planet they were living in\"\"\")\n",
    "round(train.groupby('HomePlanet')['Age'].mean(), 2)"
   ]
  },
  {
   "cell_type": "code",
   "execution_count": 62,
   "id": "112cff5c-1e54-4b0f-a724-f863adcbd642",
   "metadata": {},
   "outputs": [
    {
     "name": "stdout",
     "output_type": "stream",
     "text": [
      "\n",
      "        Plot showing Distribution of HomePlanet and Destination categories for each Transported group.\n"
     ]
    },
    {
     "data": {
      "image/png": "[encoded data removed]",
      "text/plain": [
       "<Figure size 1149x500 with 2 Axes>"
      ]
     },
     "metadata": {},
     "output_type": "display_data"
    }
   ],
   "source": [
    "print(\"\"\"\n",
    "        Plot showing Distribution of HomePlanet and Destination categories for each Transported group.\"\"\")\n",
    "colors = ['#090364','#0888b7', '#f9ac07']\n",
    "palette = sns.color_palette(colors)\n",
    "sns.catplot(x='HomePlanet', hue='Destination', col='Transported', data=train, kind='count', palette = palette)\n",
    "plt.tight_layout()\n",
    "plt.show()"
   ]
  },
  {
   "cell_type": "code",
   "execution_count": null,
   "id": "d97aaaac-8615-4fba-9095-fd418a01b43c",
   "metadata": {},
   "outputs": [],
   "source": []
  },
  {
   "cell_type": "code",
   "execution_count": null,
   "id": "1995c10c-fa52-483b-aadc-b8fb7eda457b",
   "metadata": {},
   "outputs": [],
   "source": []
  },
  {
   "cell_type": "code",
   "execution_count": null,
   "id": "7e1169db-4a0d-4b96-bf05-c105044bf15b",
   "metadata": {},
   "outputs": [],
   "source": []
  },
  {
   "cell_type": "code",
   "execution_count": null,
   "id": "2b2c8628-acfb-42e3-99e4-e1f8248b4350",
   "metadata": {},
   "outputs": [],
   "source": []
  },
  {
   "cell_type": "code",
   "execution_count": null,
   "id": "130a051f-fdbc-4936-aad9-38af69c787af",
   "metadata": {},
   "outputs": [],
   "source": []
  },
  {
   "cell_type": "code",
   "execution_count": null,
   "id": "bcf17900-bc5c-4d60-908c-915640293c7e",
   "metadata": {},
   "outputs": [],
   "source": []
  },
  {
   "cell_type": "code",
   "execution_count": null,
   "id": "c644cac0-38b0-4e49-8ad2-6ad4923edb3d",
   "metadata": {},
   "outputs": [],
   "source": []
  },
  {
   "cell_type": "code",
   "execution_count": null,
   "id": "59471386-ee3e-49c2-8594-80dc16c6ddda",
   "metadata": {},
   "outputs": [],
   "source": []
  },
  {
   "cell_type": "code",
   "execution_count": null,
   "id": "46a7d3a6-122f-49b4-b71f-f1a595784eec",
   "metadata": {},
   "outputs": [],
   "source": []
  },
  {
   "cell_type": "code",
   "execution_count": null,
   "id": "35ae9506-2b70-4581-ab29-8bcb68194460",
   "metadata": {},
   "outputs": [],
   "source": []
  },
  {
   "cell_type": "code",
   "execution_count": 50,
   "id": "10b4f19d-2b27-45ef-8cbf-b7be75411033",
   "metadata": {},
   "outputs": [],
   "source": [
    "# splitting the data\n",
    "x = train.drop('Transported', axis=1)\n",
    "y = train['Transported']"
   ]
  },
  {
   "cell_type": "code",
   "execution_count": 55,
   "id": "726c607f-f811-4c8c-bcf4-27c6b7dd2edc",
   "metadata": {},
   "outputs": [],
   "source": [
    "from sklearn.model_selection import GridSearchCV, cross_val_score\n",
    "from sklearn.preprocessing import MinMaxScaler, StandardScaler, OneHotEncoder\n",
    "from sklearn.compose import ColumnTransformer\n",
    "from sklearn.pipeline import Pipeline\n",
    "from sklearn.linear_model import LogisticRegression\n",
    "from sklearn.neighbors import KNeighborsClassifier\n",
    "from sklearn.ensemble import RandomForestClassifier\n",
    "from catboost import CatBoostClassifier\n",
    "from sklearn.metrics import classification_report, accuracy_score"
   ]
  },
  {
   "cell_type": "code",
   "execution_count": 52,
   "id": "2e50cd73-3eba-4d5b-a3d4-4d6107d3aaee",
   "metadata": {},
   "outputs": [
    {
     "data": {
      "text/plain": [
       "Index(['CryoSleep', 'Age', 'RoomService', 'FoodCourt', 'ShoppingMall', 'Spa',\n",
       "       'VRDeck'],\n",
       "      dtype='object')"
      ]
     },
     "execution_count": 52,
     "metadata": {},
     "output_type": "execute_result"
    }
   ],
   "source": [
    "train.select_dtypes(['int']).columns"
   ]
  },
  {
   "cell_type": "code",
   "execution_count": 53,
   "id": "a77984cb-281d-4e81-b3d3-ad14c0b998c8",
   "metadata": {},
   "outputs": [
    {
     "data": {
      "text/plain": [
       "Index(['PassengerId', 'HomePlanet', 'Destination'], dtype='object')"
      ]
     },
     "execution_count": 53,
     "metadata": {},
     "output_type": "execute_result"
    }
   ],
   "source": [
    "train.select_dtypes(['object']).columns"
   ]
  },
  {
   "cell_type": "code",
   "execution_count": 54,
   "id": "d8c46bee-aca2-47af-9687-17cb9cfa0930",
   "metadata": {},
   "outputs": [],
   "source": [
    "numerical_features = ['CryoSleep', 'Age', 'RoomService', 'FoodCourt', 'ShoppingMall', 'Spa',\n",
    "       'VRDeck']\n",
    "categorical_features = ['HomePlanet', 'Destination']"
   ]
  },
  {
   "cell_type": "code",
   "execution_count": 67,
   "id": "4aba9633-080b-46e9-8830-2c2449a2d9ee",
   "metadata": {},
   "outputs": [],
   "source": [
    "def experiment(model, scaler):\n",
    "    preprocessing=ColumnTransformer(transformers=[\n",
    "        ('scaling', scaler, numerical_features),\n",
    "        ('encoding', OneHotEncoder(drop='first', handle_unknown='ignore'), categorical_features)\n",
    "    ])\n",
    "\n",
    "    pipeline=Pipeline(steps=[\n",
    "        ('preprocessing', preprocessing),\n",
    "        ('modeling', model)\n",
    "    ])\n",
    "\n",
    "    pipeline.fit(x, y)\n",
    "    result = cross_val_score(pipeline, x, y)\n",
    "    prediction = pipeline.predict(x)\n",
    "    print(classification_report(y, prediction))\n",
    "    print('Accuracy Score =', accuracy_score(y, prediction))\n",
    "    print(\"\"\"\n",
    "    *Evaluation for the model performance* :\n",
    "    --------------------------------------\"\"\")\n",
    "    print(result)\n",
    "    print('cross val mean =', result.mean()*100)\n",
    "    print('Standard Deviation =', result.std())"
   ]
  },
  {
   "cell_type": "code",
   "execution_count": 68,
   "id": "75c5730e-a7e5-42ed-ab9e-bd37c60933e8",
   "metadata": {},
   "outputs": [
    {
     "name": "stdout",
     "output_type": "stream",
     "text": [
      "              precision    recall  f1-score   support\n",
      "\n",
      "       False       0.79      0.77      0.78      4315\n",
      "        True       0.78      0.80      0.79      4378\n",
      "\n",
      "    accuracy                           0.79      8693\n",
      "   macro avg       0.79      0.79      0.79      8693\n",
      "weighted avg       0.79      0.79      0.79      8693\n",
      "\n",
      "Accuracy Score = 0.7869550212814909\n",
      "\n",
      "    *Evaluation for the model performance* :\n",
      "    --------------------------------------\n",
      "[0.78378378 0.78723404 0.77918344 0.783084   0.79459148]\n",
      "cross val mean = 78.55753508325553\n",
      "Standard Deviation = 0.005182952486687152\n"
     ]
    }
   ],
   "source": [
    "# EXP (Logistic Regression)\n",
    "experiment(LogisticRegression(random_state=7), StandardScaler())"
   ]
  },
  {
   "cell_type": "code",
   "execution_count": 69,
   "id": "6f576729-7791-4d08-94c9-2a53715e5045",
   "metadata": {},
   "outputs": [
    {
     "name": "stdout",
     "output_type": "stream",
     "text": [
      "              precision    recall  f1-score   support\n",
      "\n",
      "       False       0.80      0.83      0.81      4315\n",
      "        True       0.83      0.79      0.81      4378\n",
      "\n",
      "    accuracy                           0.81      8693\n",
      "   macro avg       0.81      0.81      0.81      8693\n",
      "weighted avg       0.81      0.81      0.81      8693\n",
      "\n",
      "Accuracy Score = 0.8109973541930289\n",
      "\n",
      "    *Evaluation for the model performance* :\n",
      "    --------------------------------------\n",
      "[0.76423232 0.76365727 0.75043128 0.74798619 0.76294591]\n",
      "cross val mean = 75.7850595986874\n",
      "Standard Deviation = 0.0071099768763205244\n"
     ]
    }
   ],
   "source": [
    "# EXP (KNN)\n",
    "experiment(KNeighborsClassifier(), MinMaxScaler())"
   ]
  },
  {
   "cell_type": "code",
   "execution_count": 70,
   "id": "8ccccea5-ca46-4b94-b3ad-544a746ce83d",
   "metadata": {},
   "outputs": [
    {
     "name": "stdout",
     "output_type": "stream",
     "text": [
      "              precision    recall  f1-score   support\n",
      "\n",
      "       False       0.97      0.88      0.93      4315\n",
      "        True       0.89      0.98      0.93      4378\n",
      "\n",
      "    accuracy                           0.93      8693\n",
      "   macro avg       0.93      0.93      0.93      8693\n",
      "weighted avg       0.93      0.93      0.93      8693\n",
      "\n",
      "Accuracy Score = 0.9291383872080985\n",
      "\n",
      "    *Evaluation for the model performance* :\n",
      "    --------------------------------------\n",
      "[0.78895917 0.78550891 0.77573318 0.78711162 0.79516686]\n",
      "cross val mean = 78.6495949221508\n",
      "Standard Deviation = 0.006299882991359274\n"
     ]
    }
   ],
   "source": [
    "# EXP 3 (RF)\n",
    "experiment(RandomForestClassifier(), StandardScaler())"
   ]
  },
  {
   "cell_type": "code",
   "execution_count": 71,
   "id": "e19e982c-f809-4962-9424-d83cf2f7394a",
   "metadata": {},
   "outputs": [
    {
     "name": "stdout",
     "output_type": "stream",
     "text": [
      "              precision    recall  f1-score   support\n",
      "\n",
      "       False       0.86      0.81      0.84      4315\n",
      "        True       0.83      0.87      0.85      4378\n",
      "\n",
      "    accuracy                           0.84      8693\n",
      "   macro avg       0.84      0.84      0.84      8693\n",
      "weighted avg       0.84      0.84      0.84      8693\n",
      "\n",
      "Accuracy Score = 0.8413666168181295\n",
      "\n",
      "    *Evaluation for the model performance* :\n",
      "    --------------------------------------\n",
      "[0.7947096  0.7906843  0.79528465 0.80264672 0.80552359]\n",
      "cross val mean = 79.77697723186547\n",
      "Standard Deviation = 0.005470844565942882\n"
     ]
    }
   ],
   "source": [
    "# EXP 4 (CatBoost)\n",
    "experiment(CatBoostClassifier(verbose=0), MinMaxScaler())"
   ]
  },
  {
   "cell_type": "markdown",
   "id": "dffccfa0-30f5-4277-a741-bd8f159a1a15",
   "metadata": {},
   "source": [
    "# Tuning CatBoost"
   ]
  },
  {
   "cell_type": "code",
   "execution_count": 96,
   "id": "ba241bf0-5235-450f-befc-2387d6a028b7",
   "metadata": {},
   "outputs": [
    {
     "name": "stdout",
     "output_type": "stream",
     "text": [
      "              precision    recall  f1-score   support\n",
      "\n",
      "       False       0.83      0.76      0.79      4315\n",
      "        True       0.78      0.84      0.81      4378\n",
      "\n",
      "    accuracy                           0.80      8693\n",
      "   macro avg       0.80      0.80      0.80      8693\n",
      "weighted avg       0.80      0.80      0.80      8693\n",
      "\n",
      "Accuracy Score = 0.8025997929368457\n",
      "\n",
      "*Evaluation for the model performance* :\n",
      "--------------------------------------\n",
      "[0.79125934 0.78780909 0.79010926 0.80840046 0.80379747]\n",
      "cross val mean = 79.62751233960499\n",
      "Standard Deviation = 0.008227505033552863\n"
     ]
    }
   ],
   "source": [
    "preprocessing=ColumnTransformer(transformers=[\n",
    "    ('scaling', MinMaxScaler(), numerical_features),\n",
    "    ('encoding', OneHotEncoder(drop='first', handle_unknown='ignore'), categorical_features)\n",
    "])\n",
    "\n",
    "pipeline=Pipeline(steps=[\n",
    "    ('preprocessing', preprocessing),\n",
    "    ('modeling', CatBoostClassifier(verbose=0))\n",
    "])\n",
    "\n",
    "# hyperparameter tuning\n",
    "param_grid = {\n",
    "    'modeling__iterations': [50, 75],\n",
    "    'modeling__depth': [6, 7],\n",
    "    'modeling__learning_rate': [0.1, 0.2]\n",
    "}\n",
    "\n",
    "grid = GridSearchCV(pipeline, param_grid=param_grid)\n",
    "grid.fit(x, y)\n",
    "prediction = grid.predict(x)\n",
    "print(classification_report(y, prediction))\n",
    "print('Accuracy Score =', accuracy_score(y, prediction))\n",
    "best_model = grid.best_estimator_\n",
    "result = cross_val_score(best_model, x, y, cv=5)\n",
    "print(\"\"\"\n",
    "*Evaluation for the model performance* :\n",
    "--------------------------------------\"\"\")\n",
    "print(result)\n",
    "print('cross val mean =', result.mean()*100)\n",
    "print('Standard Deviation =', result.std())"
   ]
  },
  {
   "cell_type": "code",
   "execution_count": 97,
   "id": "19be860b-702d-4be4-9442-d4bc32088a0a",
   "metadata": {},
   "outputs": [
    {
     "data": {
      "text/plain": [
       "{'modeling__depth': 6,\n",
       " 'modeling__iterations': 50,\n",
       " 'modeling__learning_rate': 0.2}"
      ]
     },
     "execution_count": 97,
     "metadata": {},
     "output_type": "execute_result"
    }
   ],
   "source": [
    "grid.best_params_"
   ]
  },
  {
   "cell_type": "code",
   "execution_count": 101,
   "id": "1edc57d8-f1d5-4db4-888c-9bb377dced71",
   "metadata": {},
   "outputs": [
    {
     "name": "stdout",
     "output_type": "stream",
     "text": [
      "<class 'pandas.core.frame.DataFrame'>\n",
      "RangeIndex: 4277 entries, 0 to 4276\n",
      "Data columns (total 10 columns):\n",
      " #   Column        Non-Null Count  Dtype \n",
      "---  ------        --------------  ----- \n",
      " 0   PassengerId   4277 non-null   object\n",
      " 1   HomePlanet    4277 non-null   object\n",
      " 2   CryoSleep     4277 non-null   int64 \n",
      " 3   Destination   4277 non-null   object\n",
      " 4   Age           4277 non-null   int32 \n",
      " 5   RoomService   4277 non-null   int32 \n",
      " 6   FoodCourt     4277 non-null   int32 \n",
      " 7   ShoppingMall  4277 non-null   int32 \n",
      " 8   Spa           4277 non-null   int32 \n",
      " 9   VRDeck        4277 non-null   int32 \n",
      "dtypes: int32(6), int64(1), object(3)\n",
      "memory usage: 234.0+ KB\n"
     ]
    }
   ],
   "source": [
    "test.info()"
   ]
  },
  {
   "cell_type": "code",
   "execution_count": 102,
   "id": "f92ef80c-2de9-4d3c-b948-d341769a37a8",
   "metadata": {},
   "outputs": [],
   "source": [
    "# prediction for the test set\n",
    "grid.fit(x, y)\n",
    "final_prediction = grid.predict(test)"
   ]
  },
  {
   "cell_type": "code",
   "execution_count": 106,
   "id": "aaae7354-9416-433f-a9b7-2ec277ea5a27",
   "metadata": {},
   "outputs": [],
   "source": [
    "final_submission = pd.DataFrame({\n",
    "    'PassengerId' : test['PassengerId'],\n",
    "    'Transported' : final_prediction\n",
    "})"
   ]
  },
  {
   "cell_type": "code",
   "execution_count": 107,
   "id": "9c93a367-ad79-4c7a-81a0-75508373fdf9",
   "metadata": {},
   "outputs": [
    {
     "name": "stdout",
     "output_type": "stream",
     "text": [
      "File Created : 'spaceship_prediction.csv'\n"
     ]
    }
   ],
   "source": [
    "final_submission.to_csv('spaceship_prediction.csv', index=False)\n",
    "print(\"File Created : 'spaceship_prediction.csv'\")"
   ]
  },
  {
   "cell_type": "code",
   "execution_count": 108,
   "id": "0285cb4e-e96d-45e1-a6c8-0886467af529",
   "metadata": {},
   "outputs": [
    {
     "data": {
      "text/html": [
       "<div>\n",
       "<style scoped>\n",
       "    .dataframe tbody tr th:only-of-type {\n",
       "        vertical-align: middle;\n",
       "    }\n",
       "\n",
       "    .dataframe tbody tr th {\n",
       "        vertical-align: top;\n",
       "    }\n",
       "\n",
       "    .dataframe thead th {\n",
       "        text-align: right;\n",
       "    }\n",
       "</style>\n",
       "<table border=\"1\" class=\"dataframe\">\n",
       "  <thead>\n",
       "    <tr style=\"text-align: right;\">\n",
       "      <th></th>\n",
       "      <th>PassengerId</th>\n",
       "      <th>Transported</th>\n",
       "    </tr>\n",
       "  </thead>\n",
       "  <tbody>\n",
       "    <tr>\n",
       "      <th>0</th>\n",
       "      <td>0013_01</td>\n",
       "      <td>True</td>\n",
       "    </tr>\n",
       "    <tr>\n",
       "      <th>1</th>\n",
       "      <td>0018_01</td>\n",
       "      <td>False</td>\n",
       "    </tr>\n",
       "    <tr>\n",
       "      <th>2</th>\n",
       "      <td>0019_01</td>\n",
       "      <td>True</td>\n",
       "    </tr>\n",
       "    <tr>\n",
       "      <th>3</th>\n",
       "      <td>0021_01</td>\n",
       "      <td>True</td>\n",
       "    </tr>\n",
       "    <tr>\n",
       "      <th>4</th>\n",
       "      <td>0023_01</td>\n",
       "      <td>True</td>\n",
       "    </tr>\n",
       "    <tr>\n",
       "      <th>...</th>\n",
       "      <td>...</td>\n",
       "      <td>...</td>\n",
       "    </tr>\n",
       "    <tr>\n",
       "      <th>4272</th>\n",
       "      <td>9266_02</td>\n",
       "      <td>True</td>\n",
       "    </tr>\n",
       "    <tr>\n",
       "      <th>4273</th>\n",
       "      <td>9269_01</td>\n",
       "      <td>False</td>\n",
       "    </tr>\n",
       "    <tr>\n",
       "      <th>4274</th>\n",
       "      <td>9271_01</td>\n",
       "      <td>True</td>\n",
       "    </tr>\n",
       "    <tr>\n",
       "      <th>4275</th>\n",
       "      <td>9273_01</td>\n",
       "      <td>True</td>\n",
       "    </tr>\n",
       "    <tr>\n",
       "      <th>4276</th>\n",
       "      <td>9277_01</td>\n",
       "      <td>True</td>\n",
       "    </tr>\n",
       "  </tbody>\n",
       "</table>\n",
       "<p>4277 rows × 2 columns</p>\n",
       "</div>"
      ],
      "text/plain": [
       "     PassengerId  Transported\n",
       "0        0013_01         True\n",
       "1        0018_01        False\n",
       "2        0019_01         True\n",
       "3        0021_01         True\n",
       "4        0023_01         True\n",
       "...          ...          ...\n",
       "4272     9266_02         True\n",
       "4273     9269_01        False\n",
       "4274     9271_01         True\n",
       "4275     9273_01         True\n",
       "4276     9277_01         True\n",
       "\n",
       "[4277 rows x 2 columns]"
      ]
     },
     "execution_count": 108,
     "metadata": {},
     "output_type": "execute_result"
    }
   ],
   "source": [
    "spaceship = pd.read_csv('spaceship_prediction.csv')\n",
    "spaceship"
   ]
  },
  {
   "cell_type": "code",
   "execution_count": null,
   "id": "451b4a23-932c-4f28-a965-ee884190175d",
   "metadata": {},
   "outputs": [],
   "source": []
  }
 ],
 "metadata": {
  "kernelspec": {
   "display_name": "Python 3 (ipykernel)",
   "language": "python",
   "name": "python3"
  },
  "language_info": {
   "codemirror_mode": {
    "name": "ipython",
    "version": 3
   },
   "file_extension": ".py",
   "mimetype": "text/x-python",
   "name": "python",
   "nbconvert_exporter": "python",
   "pygments_lexer": "ipython3",
   "version": "3.11.7"
  }
 },
 "nbformat": 4,
 "nbformat_minor": 5
}
