{
 "cells": [
  {
   "cell_type": "markdown",
   "id": "e974cf4a-3244-47f4-a9c2-3fbe6e3233a2",
   "metadata": {},
   "source": [
    "# Descriptive Analysis of Sales Data (2019)\n",
    "\n",
    "This notebook provides a detailed descriptive analysis of sales data for a specific products, covering each month in 2019. The primary objectives of this analysis are to:\n",
    "\n",
    "- Examine the monthly sales trends throughout the year.\n",
    "- Identify peak and low sales months.\n",
    "- Provide insights into potential improvements for future sales strategy.\n",
    "\n",
    "The data is sourced from internal sales records, and it will be analyzed through various statistical and visualization techniques.\n",
    "\n",
    "---\n"
   ]
  },
  {
   "cell_type": "code",
   "execution_count": 1,
   "id": "93cd57a7-3cc5-4cb3-bd61-1c08d8dcd752",
   "metadata": {},
   "outputs": [],
   "source": [
    "# importing the necessary libraries\n",
    "import pandas as pd\n",
    "import matplotlib.pyplot as plt\n",
    "import seaborn as sns"
   ]
  },
  {
   "cell_type": "code",
   "execution_count": 2,
   "id": "3a043593-aed0-4290-bfc9-cdf8a698d165",
   "metadata": {},
   "outputs": [
    {
     "data": {
      "text/html": [
       "<div>\n",
       "<style scoped>\n",
       "    .dataframe tbody tr th:only-of-type {\n",
       "        vertical-align: middle;\n",
       "    }\n",
       "\n",
       "    .dataframe tbody tr th {\n",
       "        vertical-align: top;\n",
       "    }\n",
       "\n",
       "    .dataframe thead th {\n",
       "        text-align: right;\n",
       "    }\n",
       "</style>\n",
       "<table border=\"1\" class=\"dataframe\">\n",
       "  <thead>\n",
       "    <tr style=\"text-align: right;\">\n",
       "      <th></th>\n",
       "      <th>Order ID</th>\n",
       "      <th>Product Category</th>\n",
       "      <th>Product</th>\n",
       "      <th>Quantity Ordered</th>\n",
       "      <th>Price Each</th>\n",
       "      <th>Total</th>\n",
       "      <th>Order Date</th>\n",
       "      <th>City</th>\n",
       "      <th>State</th>\n",
       "      <th>Purchase Address</th>\n",
       "    </tr>\n",
       "  </thead>\n",
       "  <tbody>\n",
       "    <tr>\n",
       "      <th>0</th>\n",
       "      <td>176558</td>\n",
       "      <td>Accessories</td>\n",
       "      <td>USB-C Charging Cable</td>\n",
       "      <td>2</td>\n",
       "      <td>11.95</td>\n",
       "      <td>23.90</td>\n",
       "      <td>2019-04-19 08:46:00</td>\n",
       "      <td>Dallas</td>\n",
       "      <td>TX</td>\n",
       "      <td>917 1st St, Dallas, TX 75001</td>\n",
       "    </tr>\n",
       "    <tr>\n",
       "      <th>1</th>\n",
       "      <td>176559</td>\n",
       "      <td>Headphones</td>\n",
       "      <td>Bose SoundSport Headphones</td>\n",
       "      <td>1</td>\n",
       "      <td>99.99</td>\n",
       "      <td>99.99</td>\n",
       "      <td>2019-04-07 22:30:00</td>\n",
       "      <td>Boston</td>\n",
       "      <td>MA</td>\n",
       "      <td>682 Chestnut St, Boston, MA 02215</td>\n",
       "    </tr>\n",
       "    <tr>\n",
       "      <th>2</th>\n",
       "      <td>176560</td>\n",
       "      <td>Mobiles</td>\n",
       "      <td>Google Phone</td>\n",
       "      <td>1</td>\n",
       "      <td>600.00</td>\n",
       "      <td>600.00</td>\n",
       "      <td>2019-04-12 14:38:00</td>\n",
       "      <td>Los Angeles</td>\n",
       "      <td>CA</td>\n",
       "      <td>669 Spruce St, Los Angeles, CA 90001</td>\n",
       "    </tr>\n",
       "    <tr>\n",
       "      <th>3</th>\n",
       "      <td>176560</td>\n",
       "      <td>Headphones</td>\n",
       "      <td>Wired Headphones</td>\n",
       "      <td>1</td>\n",
       "      <td>11.99</td>\n",
       "      <td>11.99</td>\n",
       "      <td>2019-04-12 14:38:00</td>\n",
       "      <td>Los Angeles</td>\n",
       "      <td>CA</td>\n",
       "      <td>669 Spruce St, Los Angeles, CA 90001</td>\n",
       "    </tr>\n",
       "    <tr>\n",
       "      <th>4</th>\n",
       "      <td>176561</td>\n",
       "      <td>Headphones</td>\n",
       "      <td>Wired Headphones</td>\n",
       "      <td>1</td>\n",
       "      <td>11.99</td>\n",
       "      <td>11.99</td>\n",
       "      <td>2019-04-30 09:27:00</td>\n",
       "      <td>Los Angeles</td>\n",
       "      <td>CA</td>\n",
       "      <td>333 8th St, Los Angeles, CA 90001</td>\n",
       "    </tr>\n",
       "  </tbody>\n",
       "</table>\n",
       "</div>"
      ],
      "text/plain": [
       "   Order ID Product Category                     Product  Quantity Ordered  \\\n",
       "0    176558      Accessories        USB-C Charging Cable                 2   \n",
       "1    176559       Headphones  Bose SoundSport Headphones                 1   \n",
       "2    176560          Mobiles                Google Phone                 1   \n",
       "3    176560       Headphones            Wired Headphones                 1   \n",
       "4    176561       Headphones            Wired Headphones                 1   \n",
       "\n",
       "   Price Each   Total           Order Date         City State  \\\n",
       "0       11.95   23.90  2019-04-19 08:46:00       Dallas    TX   \n",
       "1       99.99   99.99  2019-04-07 22:30:00       Boston    MA   \n",
       "2      600.00  600.00  2019-04-12 14:38:00  Los Angeles    CA   \n",
       "3       11.99   11.99  2019-04-12 14:38:00  Los Angeles    CA   \n",
       "4       11.99   11.99  2019-04-30 09:27:00  Los Angeles    CA   \n",
       "\n",
       "                       Purchase Address  \n",
       "0          917 1st St, Dallas, TX 75001  \n",
       "1     682 Chestnut St, Boston, MA 02215  \n",
       "2  669 Spruce St, Los Angeles, CA 90001  \n",
       "3  669 Spruce St, Los Angeles, CA 90001  \n",
       "4     333 8th St, Los Angeles, CA 90001  "
      ]
     },
     "execution_count": 2,
     "metadata": {},
     "output_type": "execute_result"
    }
   ],
   "source": [
    "# reading the file and showing sample data\n",
    "df=pd.read_csv('total_data.csv')\n",
    "df.head()"
   ]
  },
  {
   "cell_type": "code",
   "execution_count": 3,
   "id": "39ba95eb-51d4-409e-8c7c-bdc0d125be6d",
   "metadata": {},
   "outputs": [
    {
     "data": {
      "text/plain": [
       "0"
      ]
     },
     "execution_count": 3,
     "metadata": {},
     "output_type": "execute_result"
    }
   ],
   "source": [
    "# checking for duplicates\n",
    "df.duplicated().sum()"
   ]
  },
  {
   "cell_type": "code",
   "execution_count": 4,
   "id": "18a83855-a6a2-4206-ac49-c4c2df45c315",
   "metadata": {},
   "outputs": [
    {
     "data": {
      "text/plain": [
       "Order ID            0\n",
       "Product Category    0\n",
       "Product             0\n",
       "Quantity Ordered    0\n",
       "Price Each          0\n",
       "Total               0\n",
       "Order Date          0\n",
       "City                0\n",
       "State               0\n",
       "Purchase Address    0\n",
       "dtype: int64"
      ]
     },
     "execution_count": 4,
     "metadata": {},
     "output_type": "execute_result"
    }
   ],
   "source": [
    "# checking for nulls\n",
    "df.isnull().sum()"
   ]
  },
  {
   "cell_type": "code",
   "execution_count": 5,
   "id": "c7a781f2-e5d2-4e4b-9909-e869288f35ea",
   "metadata": {},
   "outputs": [
    {
     "name": "stdout",
     "output_type": "stream",
     "text": [
      "<class 'pandas.core.frame.DataFrame'>\n",
      "RangeIndex: 185686 entries, 0 to 185685\n",
      "Data columns (total 10 columns):\n",
      " #   Column            Non-Null Count   Dtype  \n",
      "---  ------            --------------   -----  \n",
      " 0   Order ID          185686 non-null  int64  \n",
      " 1   Product Category  185686 non-null  object \n",
      " 2   Product           185686 non-null  object \n",
      " 3   Quantity Ordered  185686 non-null  int64  \n",
      " 4   Price Each        185686 non-null  float64\n",
      " 5   Total             185686 non-null  float64\n",
      " 6   Order Date        185686 non-null  object \n",
      " 7   City              185686 non-null  object \n",
      " 8   State             185686 non-null  object \n",
      " 9   Purchase Address  185686 non-null  object \n",
      "dtypes: float64(2), int64(2), object(6)\n",
      "memory usage: 14.2+ MB\n"
     ]
    }
   ],
   "source": [
    "# checking each column datatype\n",
    "df.info()"
   ]
  },
  {
   "cell_type": "code",
   "execution_count": 6,
   "id": "264aeb53-20fc-45dc-807c-6ec5944725d8",
   "metadata": {},
   "outputs": [],
   "source": [
    "# converting the columns to it's suitable datatype for analysis\n",
    "df['Order Date']=pd.to_datetime(df['Order Date'])\n",
    "df['Order ID']=df['Order ID'].astype('object')"
   ]
  },
  {
   "cell_type": "code",
   "execution_count": 7,
   "id": "8e197a1c-fb72-4217-a37c-bae74f5bbdc0",
   "metadata": {},
   "outputs": [],
   "source": [
    "# removing duplicates and nulls\n",
    "df.drop_duplicates(inplace=True)\n",
    "df.dropna(inplace=True)"
   ]
  },
  {
   "cell_type": "code",
   "execution_count": 8,
   "id": "bfee83eb-723b-45a8-84db-5f1e1ea4bf75",
   "metadata": {},
   "outputs": [
    {
     "name": "stdout",
     "output_type": "stream",
     "text": [
      "<class 'pandas.core.frame.DataFrame'>\n",
      "RangeIndex: 185686 entries, 0 to 185685\n",
      "Data columns (total 10 columns):\n",
      " #   Column            Non-Null Count   Dtype         \n",
      "---  ------            --------------   -----         \n",
      " 0   Order ID          185686 non-null  object        \n",
      " 1   Product Category  185686 non-null  object        \n",
      " 2   Product           185686 non-null  object        \n",
      " 3   Quantity Ordered  185686 non-null  int64         \n",
      " 4   Price Each        185686 non-null  float64       \n",
      " 5   Total             185686 non-null  float64       \n",
      " 6   Order Date        185686 non-null  datetime64[ns]\n",
      " 7   City              185686 non-null  object        \n",
      " 8   State             185686 non-null  object        \n",
      " 9   Purchase Address  185686 non-null  object        \n",
      "dtypes: datetime64[ns](1), float64(2), int64(1), object(6)\n",
      "memory usage: 14.2+ MB\n"
     ]
    }
   ],
   "source": [
    "# checking again the datatypes after conversion\n",
    "df.info()"
   ]
  },
  {
   "cell_type": "code",
   "execution_count": null,
   "id": "04a3ed2a-bb79-4f1c-a785-1e7b0a4b90f8",
   "metadata": {},
   "outputs": [],
   "source": [
    "df=df.to_csv('Total_Data.csv',index=False)"
   ]
  },
  {
   "cell_type": "markdown",
   "id": "1a7f3f80-086e-403a-82b1-5dde661433a1",
   "metadata": {},
   "source": [
    "# Price List"
   ]
  },
  {
   "cell_type": "code",
   "execution_count": 21,
   "id": "68b62b0c-356f-4825-aad8-a433e54fe40c",
   "metadata": {},
   "outputs": [
    {
     "name": "stdout",
     "output_type": "stream",
     "text": [
      "These are the prices for the whole products sorted from lowest to highest\n",
      "\n"
     ]
    },
    {
     "data": {
      "text/html": [
       "<div>\n",
       "<style scoped>\n",
       "    .dataframe tbody tr th:only-of-type {\n",
       "        vertical-align: middle;\n",
       "    }\n",
       "\n",
       "    .dataframe tbody tr th {\n",
       "        vertical-align: top;\n",
       "    }\n",
       "\n",
       "    .dataframe thead th {\n",
       "        text-align: right;\n",
       "    }\n",
       "</style>\n",
       "<table border=\"1\" class=\"dataframe\">\n",
       "  <thead>\n",
       "    <tr style=\"text-align: right;\">\n",
       "      <th></th>\n",
       "      <th>Product</th>\n",
       "      <th>Price Each</th>\n",
       "    </tr>\n",
       "  </thead>\n",
       "  <tbody>\n",
       "    <tr>\n",
       "      <th>19</th>\n",
       "      <td>AAA Batteries (4-pack)</td>\n",
       "      <td>2.99</td>\n",
       "    </tr>\n",
       "    <tr>\n",
       "      <th>13</th>\n",
       "      <td>AA Batteries (4-pack)</td>\n",
       "      <td>3.84</td>\n",
       "    </tr>\n",
       "    <tr>\n",
       "      <th>0</th>\n",
       "      <td>USB-C Charging Cable</td>\n",
       "      <td>11.95</td>\n",
       "    </tr>\n",
       "    <tr>\n",
       "      <th>3</th>\n",
       "      <td>Wired Headphones</td>\n",
       "      <td>11.99</td>\n",
       "    </tr>\n",
       "    <tr>\n",
       "      <th>11</th>\n",
       "      <td>Lightning Charging Cable</td>\n",
       "      <td>14.95</td>\n",
       "    </tr>\n",
       "    <tr>\n",
       "      <th>1</th>\n",
       "      <td>Bose SoundSport Headphones</td>\n",
       "      <td>99.99</td>\n",
       "    </tr>\n",
       "    <tr>\n",
       "      <th>34</th>\n",
       "      <td>20in Monitor</td>\n",
       "      <td>109.99</td>\n",
       "    </tr>\n",
       "    <tr>\n",
       "      <th>33</th>\n",
       "      <td>27in FHD Monitor</td>\n",
       "      <td>149.99</td>\n",
       "    </tr>\n",
       "    <tr>\n",
       "      <th>15</th>\n",
       "      <td>Apple Airpods Headphones</td>\n",
       "      <td>150.00</td>\n",
       "    </tr>\n",
       "    <tr>\n",
       "      <th>28</th>\n",
       "      <td>Flatscreen TV</td>\n",
       "      <td>300.00</td>\n",
       "    </tr>\n",
       "    <tr>\n",
       "      <th>108</th>\n",
       "      <td>34in Ultrawide Monitor</td>\n",
       "      <td>379.99</td>\n",
       "    </tr>\n",
       "    <tr>\n",
       "      <th>12</th>\n",
       "      <td>27in 4K Gaming Monitor</td>\n",
       "      <td>389.99</td>\n",
       "    </tr>\n",
       "    <tr>\n",
       "      <th>81</th>\n",
       "      <td>Vareebadd Phone</td>\n",
       "      <td>400.00</td>\n",
       "    </tr>\n",
       "    <tr>\n",
       "      <th>98</th>\n",
       "      <td>LG Washing Machine</td>\n",
       "      <td>600.00</td>\n",
       "    </tr>\n",
       "    <tr>\n",
       "      <th>52</th>\n",
       "      <td>LG Dryer</td>\n",
       "      <td>600.00</td>\n",
       "    </tr>\n",
       "    <tr>\n",
       "      <th>2</th>\n",
       "      <td>Google Phone</td>\n",
       "      <td>600.00</td>\n",
       "    </tr>\n",
       "    <tr>\n",
       "      <th>25</th>\n",
       "      <td>iPhone</td>\n",
       "      <td>700.00</td>\n",
       "    </tr>\n",
       "    <tr>\n",
       "      <th>79</th>\n",
       "      <td>ThinkPad Laptop</td>\n",
       "      <td>999.99</td>\n",
       "    </tr>\n",
       "    <tr>\n",
       "      <th>8</th>\n",
       "      <td>Macbook Pro Laptop</td>\n",
       "      <td>1700.00</td>\n",
       "    </tr>\n",
       "  </tbody>\n",
       "</table>\n",
       "</div>"
      ],
      "text/plain": [
       "                        Product  Price Each\n",
       "19       AAA Batteries (4-pack)        2.99\n",
       "13        AA Batteries (4-pack)        3.84\n",
       "0          USB-C Charging Cable       11.95\n",
       "3              Wired Headphones       11.99\n",
       "11     Lightning Charging Cable       14.95\n",
       "1    Bose SoundSport Headphones       99.99\n",
       "34                 20in Monitor      109.99\n",
       "33             27in FHD Monitor      149.99\n",
       "15     Apple Airpods Headphones      150.00\n",
       "28                Flatscreen TV      300.00\n",
       "108      34in Ultrawide Monitor      379.99\n",
       "12       27in 4K Gaming Monitor      389.99\n",
       "81              Vareebadd Phone      400.00\n",
       "98           LG Washing Machine      600.00\n",
       "52                     LG Dryer      600.00\n",
       "2                  Google Phone      600.00\n",
       "25                       iPhone      700.00\n",
       "79              ThinkPad Laptop      999.99\n",
       "8            Macbook Pro Laptop     1700.00"
      ]
     },
     "execution_count": 21,
     "metadata": {},
     "output_type": "execute_result"
    }
   ],
   "source": [
    "print(\"\"\"These are the prices for the whole products sorted from lowest to highest\n",
    "\"\"\")\n",
    "df[['Product','Price Each']].drop_duplicates().sort_values('Price Each',ascending=True)"
   ]
  },
  {
   "cell_type": "markdown",
   "id": "9c238225-33e9-465e-835c-4ff708ada495",
   "metadata": {},
   "source": [
    "## Product Analysis Overview\n",
    "\n",
    "In this section, we will analyze the following key metrics for each product:\n",
    "\n",
    "- **Total Sales for Each Product**: The total revenue generated by each product throughout the year.\n",
    "- **Total Quantity Ordered for Each Product**: The total number of units ordered for each product.\n",
    "- **Average Price for Each Product Category**: The average selling price of products within each category.\n",
    "\n",
    "This analysis will provide insights into product performance and pricing trends across categories.\n"
   ]
  },
  {
   "cell_type": "code",
   "execution_count": 24,
   "id": "24329336-38aa-431b-abef-b79af3858257",
   "metadata": {
    "scrolled": true
   },
   "outputs": [
    {
     "name": "stdout",
     "output_type": "stream",
     "text": [
      "\n",
      "Below are the total sales for each product\n",
      "\n"
     ]
    },
    {
     "data": {
      "text/plain": [
       "Product\n",
       "AAA Batteries (4-pack)          92740.83\n",
       "AA Batteries (4-pack)          106118.40\n",
       "Wired Headphones               246478.43\n",
       "USB-C Charging Cable           286501.25\n",
       "Lightning Charging Cable       347094.15\n",
       "LG Dryer                       387600.00\n",
       "LG Washing Machine             399600.00\n",
       "20in Monitor                   454148.71\n",
       "Vareebadd Phone                827200.00\n",
       "27in FHD Monitor              1132424.50\n",
       "Bose SoundSport Headphones    1345565.43\n",
       "Flatscreen TV                 1445700.00\n",
       "Apple Airpods Headphones      2349150.00\n",
       "34in Ultrawide Monitor        2355558.01\n",
       "27in 4K Gaming Monitor        2435097.56\n",
       "Google Phone                  3319200.00\n",
       "ThinkPad Laptop               4129958.70\n",
       "iPhone                        4794300.00\n",
       "Macbook Pro Laptop            8037600.00\n",
       "Name: Total, dtype: float64"
      ]
     },
     "execution_count": 24,
     "metadata": {},
     "output_type": "execute_result"
    }
   ],
   "source": [
    "# total sales for each product\n",
    "print(\"\"\"\n",
    "Below are the total sales for each product\n",
    "\"\"\")\n",
    "df.groupby('Product')['Total'].sum().sort_values(ascending=True)"
   ]
  },
  {
   "cell_type": "code",
   "execution_count": 36,
   "id": "3ee2c3b7-fcc1-48c0-b166-337463316f26",
   "metadata": {},
   "outputs": [
    {
     "data": {
      "image/png": "[encoded data removed]",
      "text/plain": [
       "<Figure size 640x480 with 1 Axes>"
      ]
     },
     "metadata": {},
     "output_type": "display_data"
    }
   ],
   "source": [
    "# Group the data by product and calculate total sales\n",
    "df_grouped = df.groupby('Product')['Total'].sum().sort_values(ascending=False)\n",
    "\n",
    "# Create a bar plot using Seaborn\n",
    "sns.barplot(y=df_grouped.index, x=df_grouped.values,orient='h')\n",
    "\n",
    "# Customize the plot\n",
    "plt.xlabel('Product')\n",
    "plt.ylabel('Total Sales')\n",
    "plt.title('Total Sales per Product')\n",
    "plt.xticks()\n",
    "\n",
    "# Show the plot\n",
    "plt.show()"
   ]
  },
  {
   "cell_type": "code",
   "execution_count": 27,
   "id": "7e8e8829-9ae5-4ad6-8067-dd1d3ec82785",
   "metadata": {
    "scrolled": true
   },
   "outputs": [
    {
     "data": {
      "text/plain": [
       "Product\n",
       "LG Dryer                        646\n",
       "LG Washing Machine              666\n",
       "Vareebadd Phone                2068\n",
       "20in Monitor                   4129\n",
       "ThinkPad Laptop                4130\n",
       "Macbook Pro Laptop             4728\n",
       "Flatscreen TV                  4819\n",
       "Google Phone                   5532\n",
       "34in Ultrawide Monitor         6199\n",
       "27in 4K Gaming Monitor         6244\n",
       "iPhone                         6849\n",
       "27in FHD Monitor               7550\n",
       "Bose SoundSport Headphones    13457\n",
       "Apple Airpods Headphones      15661\n",
       "Wired Headphones              20557\n",
       "Lightning Charging Cable      23217\n",
       "USB-C Charging Cable          23975\n",
       "AA Batteries (4-pack)         27635\n",
       "AAA Batteries (4-pack)        31017\n",
       "Name: Quantity Ordered, dtype: int64"
      ]
     },
     "execution_count": 27,
     "metadata": {},
     "output_type": "execute_result"
    }
   ],
   "source": [
    "# total quantity ordered for each product\n",
    "df.groupby('Product')['Quantity Ordered'].sum().sort_values(ascending=True)"
   ]
  },
  {
   "cell_type": "code",
   "execution_count": 41,
   "id": "1290fb89-e8d8-4257-92b7-40afe4d16ef3",
   "metadata": {},
   "outputs": [
    {
     "data": {
      "image/png": "[encoded data removed]",
      "text/plain": [
       "<Figure size 640x480 with 1 Axes>"
      ]
     },
     "metadata": {},
     "output_type": "display_data"
    }
   ],
   "source": [
    "# Group the data by product and calculate total sales\n",
    "df_grouped2 = df.groupby('Product')['Quantity Ordered'].sum().sort_values(ascending=False)\n",
    "\n",
    "# Create a bar plot using Seaborn\n",
    "sns.barplot(y=df_grouped2.index, x=df_grouped2.values,orient='h')\n",
    "\n",
    "# Customize the plot\n",
    "plt.xlabel('Quantity sold')\n",
    "plt.ylabel('products')\n",
    "plt.title('Total products sold')\n",
    "\n",
    "# Show the plot\n",
    "plt.show()"
   ]
  },
  {
   "cell_type": "markdown",
   "id": "1e55afa2-b544-47bf-8f56-7049d0dc82a0",
   "metadata": {},
   "source": [
    "## Order Analysis\n",
    "\n",
    "In this section, we will analyze the orders in the dataset with a focus on:\n",
    "\n",
    "- **Number of Orders Placed for Each Product Category**: A breakdown of how many orders were placed for each category.\n",
    "- **Most Common Product Sold**: Identifying the product with the highest sales frequency.\n",
    "\n",
    "This will help us understand the distribution of orders across categories and highlight the most popular product.\n"
   ]
  },
  {
   "cell_type": "code",
   "execution_count": 46,
   "id": "9a081406-30c5-430a-a9ea-8c650177cf27",
   "metadata": {},
   "outputs": [
    {
     "data": {
      "text/plain": [
       "Product Category\n",
       "Home Appliances      6131\n",
       "Laptops              8858\n",
       "Mobiles             14449\n",
       "Monitors            24122\n",
       "Headphones          49675\n",
       "Accessories        105844\n",
       "Name: Quantity Ordered, dtype: int64"
      ]
     },
     "execution_count": 46,
     "metadata": {},
     "output_type": "execute_result"
    }
   ],
   "source": [
    "# how many orders placed for each product category \n",
    "df.groupby('Product Category')['Quantity Ordered'].sum().sort_values(ascending=True)"
   ]
  },
  {
   "cell_type": "code",
   "execution_count": 47,
   "id": "f304f6c6-c08d-40cc-a111-2e01a3d34a6c",
   "metadata": {},
   "outputs": [
    {
     "data": {
      "text/plain": [
       "'USB-C Charging Cable'"
      ]
     },
     "execution_count": 47,
     "metadata": {},
     "output_type": "execute_result"
    }
   ],
   "source": [
    "# the most common product sold\n",
    "df['Product'].mode()[0]"
   ]
  },
  {
   "cell_type": "markdown",
   "id": "6d63d386-2753-41d7-b585-7416f6f2145e",
   "metadata": {},
   "source": [
    "## Sales Analysis\n",
    "\n",
    "In this section, we will explore the sales performance across different regions by analyzing:\n",
    "\n",
    "- **Total Sales Amount for Each City**: The overall revenue generated in each city.\n",
    "- **Total Sales for Each State**: A summary of total sales figures for each state.\n",
    "\n",
    "This analysis will provide insights into the geographical distribution of sales and identify key markets.\n"
   ]
  },
  {
   "cell_type": "code",
   "execution_count": 49,
   "id": "581f5d15-4210-4b20-990c-92122525a5f8",
   "metadata": {},
   "outputs": [
    {
     "data": {
      "text/plain": [
       "City\n",
       "San Francisco    8262203.91\n",
       "Los Angeles      5452570.80\n",
       "New York City    4664317.43\n",
       "Boston           3661642.01\n",
       "Atlanta          2795498.58\n",
       "Dallas           2767975.40\n",
       "Seattle          2747755.48\n",
       "Portland         2320490.61\n",
       "Austin           1819581.75\n",
       "Name: Total, dtype: float64"
      ]
     },
     "execution_count": 49,
     "metadata": {},
     "output_type": "execute_result"
    }
   ],
   "source": [
    "# total sales amount for each city \n",
    "df.groupby('City')['Total'].sum().sort_values(ascending=False)"
   ]
  },
  {
   "cell_type": "code",
   "execution_count": 60,
   "id": "e049afd9-24b3-4b02-85e3-cd7e275b5ffc",
   "metadata": {},
   "outputs": [
    {
     "data": {
      "image/png": "[encoded data removed]",
      "text/plain": [
       "<Figure size 640x480 with 1 Axes>"
      ]
     },
     "metadata": {},
     "output_type": "display_data"
    }
   ],
   "source": [
    "# Group the data by product and calculate total sales\n",
    "from matplotlib.ticker import FuncFormatter\n",
    "def million_formatter(x, pos):\n",
    "    return f\"{x / 1e6:.0f}M\"  \n",
    "\n",
    "\n",
    "plt.gca().xaxis.set_major_formatter(FuncFormatter(million_formatter))\n",
    "\n",
    "df_grouped3 = df.groupby('City')['Total'].sum().sort_values(ascending=False)\n",
    "\n",
    "sns.barplot(y=df_grouped3.index, x=df_grouped3.values,orient='h')\n",
    "\n",
    "plt.xlabel('Total Sales')\n",
    "plt.ylabel('City')\n",
    "plt.title('Total Sales for each city')\n",
    "\n",
    "plt.show()"
   ]
  },
  {
   "cell_type": "code",
   "execution_count": 59,
   "id": "4ef03465-5763-40f7-816f-b78ecd2e2228",
   "metadata": {},
   "outputs": [
    {
     "data": {
      "text/plain": [
       "State\n",
       "CA    13714774.71\n",
       "NY     4664317.43\n",
       "TX     4587557.15\n",
       "MA     3661642.01\n",
       "GA     2795498.58\n",
       "WA     2747755.48\n",
       "OR     1870732.34\n",
       "ME      449758.27\n",
       "Name: Total, dtype: float64"
      ]
     },
     "execution_count": 59,
     "metadata": {},
     "output_type": "execute_result"
    }
   ],
   "source": [
    "# total sales for each state\n",
    "df.groupby('State')['Total'].sum().sort_values(ascending=False)"
   ]
  },
  {
   "cell_type": "code",
   "execution_count": 65,
   "id": "4065da6d-a278-4d63-b612-8ef06adce0f7",
   "metadata": {},
   "outputs": [
    {
     "data": {
      "image/png": "[encoded data removed]",
      "text/plain": [
       "<Figure size 640x480 with 1 Axes>"
      ]
     },
     "metadata": {},
     "output_type": "display_data"
    }
   ],
   "source": [
    "def million_formatter2(x, pos):\n",
    "    return f\"{x / 1e6:.0f}M\"  \n",
    "\n",
    "\n",
    "plt.gca().xaxis.set_major_formatter(FuncFormatter(million_formatter2))\n",
    "\n",
    "df_grouped4 = df.groupby('State')['Total'].sum().sort_values(ascending=False)\n",
    "\n",
    "sns.barplot(y=df_grouped4.index, x=df_grouped4.values)\n",
    "\n",
    "plt.xlabel('Total Sales')\n",
    "plt.ylabel('State')\n",
    "plt.title('Total Sales for each state')\n",
    "\n",
    "plt.show()"
   ]
  },
  {
   "cell_type": "markdown",
   "id": "be272ba0-e3da-41ad-87ad-400fd0fe76dc",
   "metadata": {},
   "source": [
    "## Time-Based Analysis\n",
    "\n",
    "In this section, we will analyze the data from a time perspective, focusing on:\n",
    "\n",
    "- **Number of Orders Placed in Each Month**: Tracking the total number of orders throughout the year.\n",
    "- **Number of Orders Placed per Month for Each Product**: Analyzing the monthly order frequency for each product.\n",
    "- **Total Sales Amount for Each Month**: Evaluating the total revenue generated in each month.\n",
    "\n",
    "This time-based analysis will help us identify trends and patterns in sales and order behavior over the course of the year.\n"
   ]
  },
  {
   "cell_type": "code",
   "execution_count": 69,
   "id": "a96f8971-dd46-4ebe-8c71-18018613159c",
   "metadata": {},
   "outputs": [
    {
     "name": "stdout",
     "output_type": "stream",
     "text": [
      "\n",
      "Months are from Jan till Dec.\n",
      "Those are the number of orders placed for each month:\n",
      "\n"
     ]
    },
    {
     "data": {
      "text/plain": [
       "Order Date\n",
       "1      9293\n",
       "9     11202\n",
       "8     11484\n",
       "2     11496\n",
       "6     12989\n",
       "7     13761\n",
       "3     14549\n",
       "5     15836\n",
       "11    16859\n",
       "4     17528\n",
       "10    19436\n",
       "12    24004\n",
       "Name: Order ID, dtype: int64"
      ]
     },
     "execution_count": 69,
     "metadata": {},
     "output_type": "execute_result"
    }
   ],
   "source": [
    "# how many orders were placed in each month \n",
    "print(\"\"\"\n",
    "Months are from Jan till Dec.\n",
    "Those are the number of orders placed for each month:\n",
    "\"\"\")\n",
    "df.groupby(df['Order Date'].dt.month)['Order ID'].nunique().sort_values(ascending=True)"
   ]
  },
  {
   "cell_type": "code",
   "execution_count": 71,
   "id": "b43de8b3-7a1e-4998-9e3e-3f5cf72358af",
   "metadata": {},
   "outputs": [
    {
     "data": {
      "image/png": "[encoded data removed]",
      "text/plain": [
       "<Figure size 640x480 with 1 Axes>"
      ]
     },
     "metadata": {},
     "output_type": "display_data"
    }
   ],
   "source": [
    "\n",
    "# Group the data by month and count unique order IDs\n",
    "df_grouped5 = df.groupby(df['Order Date'].dt.month)['Order ID'].nunique().sort_values(ascending=True)\n",
    "\n",
    "# Create a bar plot using Seaborn\n",
    "sns.barplot(x=df_grouped5.index, y=df_grouped5.values)\n",
    "\n",
    "# Customize the plot\n",
    "plt.xlabel('Month')\n",
    "plt.ylabel('Number of Unique Orders')\n",
    "plt.title('Number of Unique Orders per Month')\n",
    "\n",
    "# Show the plot\n",
    "plt.show()"
   ]
  },
  {
   "cell_type": "code",
   "execution_count": 72,
   "id": "c08c9f4e-cc97-4237-82bf-fd64b5222c06",
   "metadata": {},
   "outputs": [
    {
     "name": "stdout",
     "output_type": "stream",
     "text": [
      "\n",
      "Number of orders placed per month(presented in a pivot table)\n",
      "\n"
     ]
    },
    {
     "data": {
      "text/html": [
       "<div>\n",
       "<style scoped>\n",
       "    .dataframe tbody tr th:only-of-type {\n",
       "        vertical-align: middle;\n",
       "    }\n",
       "\n",
       "    .dataframe tbody tr th {\n",
       "        vertical-align: top;\n",
       "    }\n",
       "\n",
       "    .dataframe thead th {\n",
       "        text-align: right;\n",
       "    }\n",
       "</style>\n",
       "<table border=\"1\" class=\"dataframe\">\n",
       "  <thead>\n",
       "    <tr style=\"text-align: right;\">\n",
       "      <th>Order Date</th>\n",
       "      <th>1</th>\n",
       "      <th>2</th>\n",
       "      <th>3</th>\n",
       "      <th>4</th>\n",
       "      <th>5</th>\n",
       "      <th>6</th>\n",
       "      <th>7</th>\n",
       "      <th>8</th>\n",
       "      <th>9</th>\n",
       "      <th>10</th>\n",
       "      <th>11</th>\n",
       "      <th>12</th>\n",
       "      <th>Total</th>\n",
       "    </tr>\n",
       "    <tr>\n",
       "      <th>Product</th>\n",
       "      <th></th>\n",
       "      <th></th>\n",
       "      <th></th>\n",
       "      <th></th>\n",
       "      <th></th>\n",
       "      <th></th>\n",
       "      <th></th>\n",
       "      <th></th>\n",
       "      <th></th>\n",
       "      <th></th>\n",
       "      <th></th>\n",
       "      <th></th>\n",
       "      <th></th>\n",
       "    </tr>\n",
       "  </thead>\n",
       "  <tbody>\n",
       "    <tr>\n",
       "      <th>20in Monitor</th>\n",
       "      <td>215</td>\n",
       "      <td>245</td>\n",
       "      <td>323</td>\n",
       "      <td>387</td>\n",
       "      <td>338</td>\n",
       "      <td>321</td>\n",
       "      <td>324</td>\n",
       "      <td>258</td>\n",
       "      <td>274</td>\n",
       "      <td>427</td>\n",
       "      <td>419</td>\n",
       "      <td>567</td>\n",
       "      <td>4098</td>\n",
       "    </tr>\n",
       "    <tr>\n",
       "      <th>27in 4K Gaming Monitor</th>\n",
       "      <td>313</td>\n",
       "      <td>424</td>\n",
       "      <td>478</td>\n",
       "      <td>564</td>\n",
       "      <td>541</td>\n",
       "      <td>451</td>\n",
       "      <td>483</td>\n",
       "      <td>437</td>\n",
       "      <td>380</td>\n",
       "      <td>718</td>\n",
       "      <td>575</td>\n",
       "      <td>861</td>\n",
       "      <td>6225</td>\n",
       "    </tr>\n",
       "    <tr>\n",
       "      <th>27in FHD Monitor</th>\n",
       "      <td>421</td>\n",
       "      <td>471</td>\n",
       "      <td>605</td>\n",
       "      <td>733</td>\n",
       "      <td>688</td>\n",
       "      <td>561</td>\n",
       "      <td>601</td>\n",
       "      <td>484</td>\n",
       "      <td>478</td>\n",
       "      <td>788</td>\n",
       "      <td>709</td>\n",
       "      <td>959</td>\n",
       "      <td>7498</td>\n",
       "    </tr>\n",
       "    <tr>\n",
       "      <th>34in Ultrawide Monitor</th>\n",
       "      <td>313</td>\n",
       "      <td>415</td>\n",
       "      <td>520</td>\n",
       "      <td>650</td>\n",
       "      <td>543</td>\n",
       "      <td>454</td>\n",
       "      <td>460</td>\n",
       "      <td>378</td>\n",
       "      <td>377</td>\n",
       "      <td>670</td>\n",
       "      <td>549</td>\n",
       "      <td>845</td>\n",
       "      <td>6174</td>\n",
       "    </tr>\n",
       "    <tr>\n",
       "      <th>AA Batteries (4-pack)</th>\n",
       "      <td>1037</td>\n",
       "      <td>1274</td>\n",
       "      <td>1671</td>\n",
       "      <td>2060</td>\n",
       "      <td>1820</td>\n",
       "      <td>1540</td>\n",
       "      <td>1555</td>\n",
       "      <td>1353</td>\n",
       "      <td>1314</td>\n",
       "      <td>2237</td>\n",
       "      <td>1969</td>\n",
       "      <td>2712</td>\n",
       "      <td>20542</td>\n",
       "    </tr>\n",
       "    <tr>\n",
       "      <th>AAA Batteries (4-pack)</th>\n",
       "      <td>1084</td>\n",
       "      <td>1318</td>\n",
       "      <td>1644</td>\n",
       "      <td>1987</td>\n",
       "      <td>1884</td>\n",
       "      <td>1450</td>\n",
       "      <td>1553</td>\n",
       "      <td>1339</td>\n",
       "      <td>1281</td>\n",
       "      <td>2233</td>\n",
       "      <td>1997</td>\n",
       "      <td>2823</td>\n",
       "      <td>20593</td>\n",
       "    </tr>\n",
       "    <tr>\n",
       "      <th>Apple Airpods Headphones</th>\n",
       "      <td>812</td>\n",
       "      <td>1009</td>\n",
       "      <td>1308</td>\n",
       "      <td>1507</td>\n",
       "      <td>1354</td>\n",
       "      <td>1152</td>\n",
       "      <td>1212</td>\n",
       "      <td>998</td>\n",
       "      <td>961</td>\n",
       "      <td>1660</td>\n",
       "      <td>1501</td>\n",
       "      <td>2051</td>\n",
       "      <td>15525</td>\n",
       "    </tr>\n",
       "    <tr>\n",
       "      <th>Bose SoundSport Headphones</th>\n",
       "      <td>659</td>\n",
       "      <td>829</td>\n",
       "      <td>1181</td>\n",
       "      <td>1277</td>\n",
       "      <td>1165</td>\n",
       "      <td>969</td>\n",
       "      <td>1048</td>\n",
       "      <td>871</td>\n",
       "      <td>824</td>\n",
       "      <td>1437</td>\n",
       "      <td>1235</td>\n",
       "      <td>1803</td>\n",
       "      <td>13298</td>\n",
       "    </tr>\n",
       "    <tr>\n",
       "      <th>Flatscreen TV</th>\n",
       "      <td>244</td>\n",
       "      <td>312</td>\n",
       "      <td>358</td>\n",
       "      <td>458</td>\n",
       "      <td>399</td>\n",
       "      <td>366</td>\n",
       "      <td>396</td>\n",
       "      <td>331</td>\n",
       "      <td>291</td>\n",
       "      <td>522</td>\n",
       "      <td>456</td>\n",
       "      <td>661</td>\n",
       "      <td>4794</td>\n",
       "    </tr>\n",
       "    <tr>\n",
       "      <th>Google Phone</th>\n",
       "      <td>317</td>\n",
       "      <td>379</td>\n",
       "      <td>463</td>\n",
       "      <td>580</td>\n",
       "      <td>479</td>\n",
       "      <td>391</td>\n",
       "      <td>410</td>\n",
       "      <td>359</td>\n",
       "      <td>341</td>\n",
       "      <td>597</td>\n",
       "      <td>492</td>\n",
       "      <td>714</td>\n",
       "      <td>5522</td>\n",
       "    </tr>\n",
       "    <tr>\n",
       "      <th>LG Dryer</th>\n",
       "      <td>39</td>\n",
       "      <td>38</td>\n",
       "      <td>49</td>\n",
       "      <td>78</td>\n",
       "      <td>76</td>\n",
       "      <td>43</td>\n",
       "      <td>55</td>\n",
       "      <td>46</td>\n",
       "      <td>30</td>\n",
       "      <td>50</td>\n",
       "      <td>56</td>\n",
       "      <td>86</td>\n",
       "      <td>646</td>\n",
       "    </tr>\n",
       "    <tr>\n",
       "      <th>LG Washing Machine</th>\n",
       "      <td>42</td>\n",
       "      <td>40</td>\n",
       "      <td>64</td>\n",
       "      <td>61</td>\n",
       "      <td>64</td>\n",
       "      <td>55</td>\n",
       "      <td>52</td>\n",
       "      <td>48</td>\n",
       "      <td>46</td>\n",
       "      <td>61</td>\n",
       "      <td>53</td>\n",
       "      <td>80</td>\n",
       "      <td>666</td>\n",
       "    </tr>\n",
       "    <tr>\n",
       "      <th>Lightning Charging Cable</th>\n",
       "      <td>1069</td>\n",
       "      <td>1391</td>\n",
       "      <td>1749</td>\n",
       "      <td>2197</td>\n",
       "      <td>1928</td>\n",
       "      <td>1560</td>\n",
       "      <td>1690</td>\n",
       "      <td>1354</td>\n",
       "      <td>1324</td>\n",
       "      <td>2412</td>\n",
       "      <td>2043</td>\n",
       "      <td>2887</td>\n",
       "      <td>21604</td>\n",
       "    </tr>\n",
       "    <tr>\n",
       "      <th>Macbook Pro Laptop</th>\n",
       "      <td>235</td>\n",
       "      <td>276</td>\n",
       "      <td>379</td>\n",
       "      <td>452</td>\n",
       "      <td>463</td>\n",
       "      <td>355</td>\n",
       "      <td>368</td>\n",
       "      <td>298</td>\n",
       "      <td>287</td>\n",
       "      <td>525</td>\n",
       "      <td>440</td>\n",
       "      <td>643</td>\n",
       "      <td>4721</td>\n",
       "    </tr>\n",
       "    <tr>\n",
       "      <th>ThinkPad Laptop</th>\n",
       "      <td>218</td>\n",
       "      <td>275</td>\n",
       "      <td>345</td>\n",
       "      <td>390</td>\n",
       "      <td>371</td>\n",
       "      <td>314</td>\n",
       "      <td>319</td>\n",
       "      <td>274</td>\n",
       "      <td>249</td>\n",
       "      <td>460</td>\n",
       "      <td>374</td>\n",
       "      <td>537</td>\n",
       "      <td>4126</td>\n",
       "    </tr>\n",
       "    <tr>\n",
       "      <th>USB-C Charging Cable</th>\n",
       "      <td>1171</td>\n",
       "      <td>1511</td>\n",
       "      <td>1765</td>\n",
       "      <td>2074</td>\n",
       "      <td>1878</td>\n",
       "      <td>1530</td>\n",
       "      <td>1666</td>\n",
       "      <td>1339</td>\n",
       "      <td>1451</td>\n",
       "      <td>2437</td>\n",
       "      <td>2054</td>\n",
       "      <td>2979</td>\n",
       "      <td>21855</td>\n",
       "    </tr>\n",
       "    <tr>\n",
       "      <th>Vareebadd Phone</th>\n",
       "      <td>125</td>\n",
       "      <td>129</td>\n",
       "      <td>174</td>\n",
       "      <td>220</td>\n",
       "      <td>185</td>\n",
       "      <td>155</td>\n",
       "      <td>146</td>\n",
       "      <td>141</td>\n",
       "      <td>126</td>\n",
       "      <td>203</td>\n",
       "      <td>177</td>\n",
       "      <td>284</td>\n",
       "      <td>2065</td>\n",
       "    </tr>\n",
       "    <tr>\n",
       "      <th>Wired Headphones</th>\n",
       "      <td>1004</td>\n",
       "      <td>1179</td>\n",
       "      <td>1512</td>\n",
       "      <td>1888</td>\n",
       "      <td>1728</td>\n",
       "      <td>1334</td>\n",
       "      <td>1434</td>\n",
       "      <td>1191</td>\n",
       "      <td>1172</td>\n",
       "      <td>2091</td>\n",
       "      <td>1777</td>\n",
       "      <td>2537</td>\n",
       "      <td>18847</td>\n",
       "    </tr>\n",
       "    <tr>\n",
       "      <th>iPhone</th>\n",
       "      <td>381</td>\n",
       "      <td>438</td>\n",
       "      <td>537</td>\n",
       "      <td>691</td>\n",
       "      <td>640</td>\n",
       "      <td>532</td>\n",
       "      <td>501</td>\n",
       "      <td>439</td>\n",
       "      <td>396</td>\n",
       "      <td>715</td>\n",
       "      <td>664</td>\n",
       "      <td>906</td>\n",
       "      <td>6840</td>\n",
       "    </tr>\n",
       "    <tr>\n",
       "      <th>Total</th>\n",
       "      <td>9699</td>\n",
       "      <td>11953</td>\n",
       "      <td>15125</td>\n",
       "      <td>18254</td>\n",
       "      <td>16544</td>\n",
       "      <td>13533</td>\n",
       "      <td>14273</td>\n",
       "      <td>11938</td>\n",
       "      <td>11602</td>\n",
       "      <td>20243</td>\n",
       "      <td>17540</td>\n",
       "      <td>24935</td>\n",
       "      <td>185639</td>\n",
       "    </tr>\n",
       "  </tbody>\n",
       "</table>\n",
       "</div>"
      ],
      "text/plain": [
       "Order Date                     1      2      3      4      5      6      7  \\\n",
       "Product                                                                      \n",
       "20in Monitor                 215    245    323    387    338    321    324   \n",
       "27in 4K Gaming Monitor       313    424    478    564    541    451    483   \n",
       "27in FHD Monitor             421    471    605    733    688    561    601   \n",
       "34in Ultrawide Monitor       313    415    520    650    543    454    460   \n",
       "AA Batteries (4-pack)       1037   1274   1671   2060   1820   1540   1555   \n",
       "AAA Batteries (4-pack)      1084   1318   1644   1987   1884   1450   1553   \n",
       "Apple Airpods Headphones     812   1009   1308   1507   1354   1152   1212   \n",
       "Bose SoundSport Headphones   659    829   1181   1277   1165    969   1048   \n",
       "Flatscreen TV                244    312    358    458    399    366    396   \n",
       "Google Phone                 317    379    463    580    479    391    410   \n",
       "LG Dryer                      39     38     49     78     76     43     55   \n",
       "LG Washing Machine            42     40     64     61     64     55     52   \n",
       "Lightning Charging Cable    1069   1391   1749   2197   1928   1560   1690   \n",
       "Macbook Pro Laptop           235    276    379    452    463    355    368   \n",
       "ThinkPad Laptop              218    275    345    390    371    314    319   \n",
       "USB-C Charging Cable        1171   1511   1765   2074   1878   1530   1666   \n",
       "Vareebadd Phone              125    129    174    220    185    155    146   \n",
       "Wired Headphones            1004   1179   1512   1888   1728   1334   1434   \n",
       "iPhone                       381    438    537    691    640    532    501   \n",
       "Total                       9699  11953  15125  18254  16544  13533  14273   \n",
       "\n",
       "Order Date                      8      9     10     11     12   Total  \n",
       "Product                                                                \n",
       "20in Monitor                  258    274    427    419    567    4098  \n",
       "27in 4K Gaming Monitor        437    380    718    575    861    6225  \n",
       "27in FHD Monitor              484    478    788    709    959    7498  \n",
       "34in Ultrawide Monitor        378    377    670    549    845    6174  \n",
       "AA Batteries (4-pack)        1353   1314   2237   1969   2712   20542  \n",
       "AAA Batteries (4-pack)       1339   1281   2233   1997   2823   20593  \n",
       "Apple Airpods Headphones      998    961   1660   1501   2051   15525  \n",
       "Bose SoundSport Headphones    871    824   1437   1235   1803   13298  \n",
       "Flatscreen TV                 331    291    522    456    661    4794  \n",
       "Google Phone                  359    341    597    492    714    5522  \n",
       "LG Dryer                       46     30     50     56     86     646  \n",
       "LG Washing Machine             48     46     61     53     80     666  \n",
       "Lightning Charging Cable     1354   1324   2412   2043   2887   21604  \n",
       "Macbook Pro Laptop            298    287    525    440    643    4721  \n",
       "ThinkPad Laptop               274    249    460    374    537    4126  \n",
       "USB-C Charging Cable         1339   1451   2437   2054   2979   21855  \n",
       "Vareebadd Phone               141    126    203    177    284    2065  \n",
       "Wired Headphones             1191   1172   2091   1777   2537   18847  \n",
       "iPhone                        439    396    715    664    906    6840  \n",
       "Total                       11938  11602  20243  17540  24935  185639  "
      ]
     },
     "execution_count": 72,
     "metadata": {},
     "output_type": "execute_result"
    }
   ],
   "source": [
    "print(\"\"\"\n",
    "Number of orders placed per month(presented in a pivot table)\n",
    "\"\"\")\n",
    "df['Order Date'].dt.month\n",
    "pivot_table=pd.pivot_table(data=df,columns=df['Order Date'].dt.month,index='Product',values='Order ID',aggfunc='nunique')\n",
    "pivot_table['Total']=pivot_table.sum(axis=1)\n",
    "pivot_table.loc['Total']=pivot_table.sum(axis=0)\n",
    "pivot_table"
   ]
  },
  {
   "cell_type": "code",
   "execution_count": 73,
   "id": "af4bd058-4844-4c3c-a33d-712f05164234",
   "metadata": {},
   "outputs": [
    {
     "data": {
      "text/plain": [
       "Order Date\n",
       "1     1822256.73\n",
       "2     2202022.42\n",
       "3     2807100.38\n",
       "4     3390670.24\n",
       "5     3152606.75\n",
       "6     2577802.26\n",
       "7     2647775.76\n",
       "8     2244467.88\n",
       "9     2097560.13\n",
       "10    3736726.88\n",
       "11    3199603.20\n",
       "12    4613443.34\n",
       "Name: Total, dtype: float64"
      ]
     },
     "execution_count": 73,
     "metadata": {},
     "output_type": "execute_result"
    }
   ],
   "source": [
    "# what is the total sales amount for each month \n",
    "df.groupby(df['Order Date'].dt.month)['Total'].sum()"
   ]
  },
  {
   "cell_type": "code",
   "execution_count": 75,
   "id": "f8423ba4-3cc9-4a50-95c7-737c9e1236af",
   "metadata": {},
   "outputs": [
    {
     "data": {
      "image/png": "[encoded data removed]",
      "text/plain": [
       "<Figure size 640x480 with 1 Axes>"
      ]
     },
     "metadata": {},
     "output_type": "display_data"
    }
   ],
   "source": [
    "def million_formatter3(x, pos):\n",
    "    return f\"{x / 1e6:.0f}M\"  \n",
    "\n",
    "\n",
    "plt.gca().xaxis.set_major_formatter(FuncFormatter(million_formatter3))\n",
    "\n",
    "df_grouped6 = df.groupby(df['Order Date'].dt.month)['Total'].sum().sort_values(ascending=False)\n",
    "\n",
    "sns.barplot(y=df_grouped6.index, x=df_grouped6.values,orient='h')\n",
    "\n",
    "plt.xlabel('Total Sales')\n",
    "plt.ylabel('Month')\n",
    "plt.title('Total Sales for each month')\n",
    "\n",
    "plt.show()"
   ]
  },
  {
   "cell_type": "code",
   "execution_count": null,
   "id": "64a96bf7-3009-4e67-8c0e-9196c72ad455",
   "metadata": {},
   "outputs": [],
   "source": []
  }
 ],
 "metadata": {
  "kernelspec": {
   "display_name": "Python 3 (ipykernel)",
   "language": "python",
   "name": "python3"
  },
  "language_info": {
   "codemirror_mode": {
    "name": "ipython",
    "version": 3
   },
   "file_extension": ".py",
   "mimetype": "text/x-python",
   "name": "python",
   "nbconvert_exporter": "python",
   "pygments_lexer": "ipython3",
   "version": "3.11.7"
  }
 },
 "nbformat": 4,
 "nbformat_minor": 5
}
